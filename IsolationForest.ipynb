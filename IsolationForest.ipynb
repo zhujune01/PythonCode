{
 "cells": [
  {
   "cell_type": "markdown",
   "metadata": {},
   "source": [
    "## Isolation Forest Model for Anomaly Detection\n",
    "\n",
    "The IsolationForest ‘isolates’ observations by randomly selecting a feature and then randomly selecting a split value between the maximum and minimum values of the selected feature.\n",
    "\n",
    "Since recursive partitioning can be represented by a tree structure, the number of splittings required to isolate a sample is equivalent to the path length from the root node to the terminating node.\n",
    "\n",
    "This path length, averaged over a forest of such random trees, is a measure of normality and our decision function.\n",
    "\n",
    "Random partitioning produces noticeable shorter paths for anomalies. Hence, when a forest of random trees collectively produce shorter path lengths for particular samples, they are highly likely to be anomalies.\n"
   ]
  },
  {
   "cell_type": "code",
   "execution_count": 1,
   "metadata": {
    "scrolled": false
   },
   "outputs": [],
   "source": [
    "import numpy as np\n",
    "import pandas as pd\n",
    "##import seaborn as sns\n",
    "import matplotlib.pyplot as plt\n",
    "%matplotlib inline\n",
    "plt.style.use('ggplot')  # prettier plots\n",
    "\n",
    "import sklearn\n",
    "from scipy.special import comb\n",
    "\n",
    "from sklearn.preprocessing import LabelEncoder\n",
    "from sklearn.preprocessing import OneHotEncoder\n",
    "from sklearn.model_selection import train_test_split\n",
    "from sklearn.ensemble import IsolationForest\n",
    "from sklearn.preprocessing import StandardScaler\n",
    "from sklearn.decomposition import PCA\n",
    "from sklearn.cluster import KMeans"
   ]
  },
  {
   "cell_type": "markdown",
   "metadata": {},
   "source": [
    "### Import model data"
   ]
  },
  {
   "cell_type": "code",
   "execution_count": 2,
   "metadata": {},
   "outputs": [],
   "source": [
    "data_raw = pd.read_csv('model_data.csv')"
   ]
  },
  {
   "cell_type": "code",
   "execution_count": 3,
   "metadata": {},
   "outputs": [
    {
     "data": {
      "text/html": [
       "<div>\n",
       "<style scoped>\n",
       "    .dataframe tbody tr th:only-of-type {\n",
       "        vertical-align: middle;\n",
       "    }\n",
       "\n",
       "    .dataframe tbody tr th {\n",
       "        vertical-align: top;\n",
       "    }\n",
       "\n",
       "    .dataframe thead th {\n",
       "        text-align: right;\n",
       "    }\n",
       "</style>\n",
       "<table border=\"1\" class=\"dataframe\">\n",
       "  <thead>\n",
       "    <tr style=\"text-align: right;\">\n",
       "      <th></th>\n",
       "      <th>Unnamed: 0</th>\n",
       "      <th>risk_tolerance</th>\n",
       "      <th>investment_experience</th>\n",
       "      <th>liquidity_needs</th>\n",
       "      <th>platform</th>\n",
       "      <th>time_spent</th>\n",
       "      <th>instrument_type_first_traded</th>\n",
       "      <th>first_deposit_amount</th>\n",
       "      <th>time_horizon</th>\n",
       "      <th>user_id</th>\n",
       "      <th>churn</th>\n",
       "      <th>n_days_gt10_l30d</th>\n",
       "      <th>avg_bal_gt10_l30d</th>\n",
       "    </tr>\n",
       "  </thead>\n",
       "  <tbody>\n",
       "    <tr>\n",
       "      <th>0</th>\n",
       "      <td>1</td>\n",
       "      <td>high_risk_tolerance</td>\n",
       "      <td>limited_investment_exp</td>\n",
       "      <td>very_important_liq_need</td>\n",
       "      <td>Android</td>\n",
       "      <td>33.129417</td>\n",
       "      <td>stock</td>\n",
       "      <td>40.0</td>\n",
       "      <td>med_time_horizon</td>\n",
       "      <td>895044c23edc821881e87da749c01034</td>\n",
       "      <td>0</td>\n",
       "      <td>22</td>\n",
       "      <td>80.800000</td>\n",
       "    </tr>\n",
       "    <tr>\n",
       "      <th>1</th>\n",
       "      <td>2</td>\n",
       "      <td>med_risk_tolerance</td>\n",
       "      <td>limited_investment_exp</td>\n",
       "      <td>very_important_liq_need</td>\n",
       "      <td>Android</td>\n",
       "      <td>16.573517</td>\n",
       "      <td>stock</td>\n",
       "      <td>200.0</td>\n",
       "      <td>short_time_horizon</td>\n",
       "      <td>458b1d95441ced242949deefe8e4b638</td>\n",
       "      <td>0</td>\n",
       "      <td>22</td>\n",
       "      <td>387.156364</td>\n",
       "    </tr>\n",
       "    <tr>\n",
       "      <th>2</th>\n",
       "      <td>3</td>\n",
       "      <td>med_risk_tolerance</td>\n",
       "      <td>limited_investment_exp</td>\n",
       "      <td>very_important_liq_need</td>\n",
       "      <td>iOS</td>\n",
       "      <td>10.008367</td>\n",
       "      <td>stock</td>\n",
       "      <td>25.0</td>\n",
       "      <td>long_time_horizon</td>\n",
       "      <td>c7936f653d293479e034865db9bb932f</td>\n",
       "      <td>0</td>\n",
       "      <td>22</td>\n",
       "      <td>49.240000</td>\n",
       "    </tr>\n",
       "    <tr>\n",
       "      <th>3</th>\n",
       "      <td>4</td>\n",
       "      <td>med_risk_tolerance</td>\n",
       "      <td>limited_investment_exp</td>\n",
       "      <td>very_important_liq_need</td>\n",
       "      <td>Android</td>\n",
       "      <td>1.031633</td>\n",
       "      <td>stock</td>\n",
       "      <td>100.0</td>\n",
       "      <td>short_time_horizon</td>\n",
       "      <td>b255d4bd6c9ba194d3a350b3e76c6393</td>\n",
       "      <td>0</td>\n",
       "      <td>22</td>\n",
       "      <td>191.885000</td>\n",
       "    </tr>\n",
       "    <tr>\n",
       "      <th>4</th>\n",
       "      <td>5</td>\n",
       "      <td>high_risk_tolerance</td>\n",
       "      <td>limited_investment_exp</td>\n",
       "      <td>very_important_liq_need</td>\n",
       "      <td>Android</td>\n",
       "      <td>8.187250</td>\n",
       "      <td>stock</td>\n",
       "      <td>20.0</td>\n",
       "      <td>long_time_horizon</td>\n",
       "      <td>4a168225e89375b8de605cbc0977ae91</td>\n",
       "      <td>0</td>\n",
       "      <td>22</td>\n",
       "      <td>162.414545</td>\n",
       "    </tr>\n",
       "  </tbody>\n",
       "</table>\n",
       "</div>"
      ],
      "text/plain": [
       "   Unnamed: 0       risk_tolerance   investment_experience  \\\n",
       "0           1  high_risk_tolerance  limited_investment_exp   \n",
       "1           2   med_risk_tolerance  limited_investment_exp   \n",
       "2           3   med_risk_tolerance  limited_investment_exp   \n",
       "3           4   med_risk_tolerance  limited_investment_exp   \n",
       "4           5  high_risk_tolerance  limited_investment_exp   \n",
       "\n",
       "           liquidity_needs platform  time_spent instrument_type_first_traded  \\\n",
       "0  very_important_liq_need  Android   33.129417                        stock   \n",
       "1  very_important_liq_need  Android   16.573517                        stock   \n",
       "2  very_important_liq_need      iOS   10.008367                        stock   \n",
       "3  very_important_liq_need  Android    1.031633                        stock   \n",
       "4  very_important_liq_need  Android    8.187250                        stock   \n",
       "\n",
       "   first_deposit_amount        time_horizon                           user_id  \\\n",
       "0                  40.0    med_time_horizon  895044c23edc821881e87da749c01034   \n",
       "1                 200.0  short_time_horizon  458b1d95441ced242949deefe8e4b638   \n",
       "2                  25.0   long_time_horizon  c7936f653d293479e034865db9bb932f   \n",
       "3                 100.0  short_time_horizon  b255d4bd6c9ba194d3a350b3e76c6393   \n",
       "4                  20.0   long_time_horizon  4a168225e89375b8de605cbc0977ae91   \n",
       "\n",
       "   churn  n_days_gt10_l30d  avg_bal_gt10_l30d  \n",
       "0      0                22          80.800000  \n",
       "1      0                22         387.156364  \n",
       "2      0                22          49.240000  \n",
       "3      0                22         191.885000  \n",
       "4      0                22         162.414545  "
      ]
     },
     "execution_count": 3,
     "metadata": {},
     "output_type": "execute_result"
    }
   ],
   "source": [
    "data_raw.head()"
   ]
  },
  {
   "cell_type": "code",
   "execution_count": 21,
   "metadata": {},
   "outputs": [],
   "source": [
    "data_train = data_raw.drop(['Unnamed: 0','user_id', 'churn'], axis=1)"
   ]
  },
  {
   "cell_type": "code",
   "execution_count": 5,
   "metadata": {},
   "outputs": [
    {
     "data": {
      "text/plain": [
       "(5584, 11)"
      ]
     },
     "execution_count": 5,
     "metadata": {},
     "output_type": "execute_result"
    }
   ],
   "source": [
    "data_train.shape"
   ]
  },
  {
   "cell_type": "code",
   "execution_count": 9,
   "metadata": {},
   "outputs": [
    {
     "data": {
      "text/plain": [
       "risk_tolerance                   object\n",
       "investment_experience            object\n",
       "liquidity_needs                  object\n",
       "platform                         object\n",
       "time_spent                      float64\n",
       "instrument_type_first_traded     object\n",
       "first_deposit_amount            float64\n",
       "time_horizon                     object\n",
       "churn                             int64\n",
       "n_days_gt10_l30d                  int64\n",
       "avg_bal_gt10_l30d               float64\n",
       "dtype: object"
      ]
     },
     "execution_count": 9,
     "metadata": {},
     "output_type": "execute_result"
    }
   ],
   "source": [
    "data_train.dtypes"
   ]
  },
  {
   "cell_type": "markdown",
   "metadata": {},
   "source": [
    "### One Hot Encoding"
   ]
  },
  {
   "cell_type": "code",
   "execution_count": 22,
   "metadata": {},
   "outputs": [],
   "source": [
    "cat_cols = []\n",
    "for c in data_train.columns:\n",
    "    if data_train[c].dtype =='object' or data_train[c].dtype == 'bool':\n",
    "        cat_cols.append(c)"
   ]
  },
  {
   "cell_type": "code",
   "execution_count": 12,
   "metadata": {},
   "outputs": [
    {
     "name": "stdout",
     "output_type": "stream",
     "text": [
      "['risk_tolerance', 'investment_experience', 'liquidity_needs', 'platform', 'instrument_type_first_traded', 'time_horizon']\n"
     ]
    }
   ],
   "source": [
    "print(cat_cols)"
   ]
  },
  {
   "cell_type": "code",
   "execution_count": 23,
   "metadata": {},
   "outputs": [
    {
     "data": {
      "text/html": [
       "<div>\n",
       "<style scoped>\n",
       "    .dataframe tbody tr th:only-of-type {\n",
       "        vertical-align: middle;\n",
       "    }\n",
       "\n",
       "    .dataframe tbody tr th {\n",
       "        vertical-align: top;\n",
       "    }\n",
       "\n",
       "    .dataframe thead th {\n",
       "        text-align: right;\n",
       "    }\n",
       "</style>\n",
       "<table border=\"1\" class=\"dataframe\">\n",
       "  <thead>\n",
       "    <tr style=\"text-align: right;\">\n",
       "      <th></th>\n",
       "      <th>time_spent</th>\n",
       "      <th>first_deposit_amount</th>\n",
       "      <th>n_days_gt10_l30d</th>\n",
       "      <th>avg_bal_gt10_l30d</th>\n",
       "      <th>risk_tolerance_high_risk_tolerance</th>\n",
       "      <th>risk_tolerance_low_risk_tolerance</th>\n",
       "      <th>risk_tolerance_med_risk_tolerance</th>\n",
       "      <th>investment_experience_extensive_investment_exp</th>\n",
       "      <th>investment_experience_good_investment_exp</th>\n",
       "      <th>investment_experience_limited_investment_exp</th>\n",
       "      <th>...</th>\n",
       "      <th>instrument_type_first_traded_lp</th>\n",
       "      <th>instrument_type_first_traded_mlp</th>\n",
       "      <th>instrument_type_first_traded_reit</th>\n",
       "      <th>instrument_type_first_traded_rlt</th>\n",
       "      <th>instrument_type_first_traded_stock</th>\n",
       "      <th>instrument_type_first_traded_tracking</th>\n",
       "      <th>instrument_type_first_traded_wrt</th>\n",
       "      <th>time_horizon_long_time_horizon</th>\n",
       "      <th>time_horizon_med_time_horizon</th>\n",
       "      <th>time_horizon_short_time_horizon</th>\n",
       "    </tr>\n",
       "  </thead>\n",
       "  <tbody>\n",
       "    <tr>\n",
       "      <th>0</th>\n",
       "      <td>33.129417</td>\n",
       "      <td>40.0</td>\n",
       "      <td>22</td>\n",
       "      <td>80.800000</td>\n",
       "      <td>1</td>\n",
       "      <td>0</td>\n",
       "      <td>0</td>\n",
       "      <td>0</td>\n",
       "      <td>0</td>\n",
       "      <td>1</td>\n",
       "      <td>...</td>\n",
       "      <td>0</td>\n",
       "      <td>0</td>\n",
       "      <td>0</td>\n",
       "      <td>0</td>\n",
       "      <td>1</td>\n",
       "      <td>0</td>\n",
       "      <td>0</td>\n",
       "      <td>0</td>\n",
       "      <td>1</td>\n",
       "      <td>0</td>\n",
       "    </tr>\n",
       "    <tr>\n",
       "      <th>1</th>\n",
       "      <td>16.573517</td>\n",
       "      <td>200.0</td>\n",
       "      <td>22</td>\n",
       "      <td>387.156364</td>\n",
       "      <td>0</td>\n",
       "      <td>0</td>\n",
       "      <td>1</td>\n",
       "      <td>0</td>\n",
       "      <td>0</td>\n",
       "      <td>1</td>\n",
       "      <td>...</td>\n",
       "      <td>0</td>\n",
       "      <td>0</td>\n",
       "      <td>0</td>\n",
       "      <td>0</td>\n",
       "      <td>1</td>\n",
       "      <td>0</td>\n",
       "      <td>0</td>\n",
       "      <td>0</td>\n",
       "      <td>0</td>\n",
       "      <td>1</td>\n",
       "    </tr>\n",
       "    <tr>\n",
       "      <th>2</th>\n",
       "      <td>10.008367</td>\n",
       "      <td>25.0</td>\n",
       "      <td>22</td>\n",
       "      <td>49.240000</td>\n",
       "      <td>0</td>\n",
       "      <td>0</td>\n",
       "      <td>1</td>\n",
       "      <td>0</td>\n",
       "      <td>0</td>\n",
       "      <td>1</td>\n",
       "      <td>...</td>\n",
       "      <td>0</td>\n",
       "      <td>0</td>\n",
       "      <td>0</td>\n",
       "      <td>0</td>\n",
       "      <td>1</td>\n",
       "      <td>0</td>\n",
       "      <td>0</td>\n",
       "      <td>1</td>\n",
       "      <td>0</td>\n",
       "      <td>0</td>\n",
       "    </tr>\n",
       "    <tr>\n",
       "      <th>3</th>\n",
       "      <td>1.031633</td>\n",
       "      <td>100.0</td>\n",
       "      <td>22</td>\n",
       "      <td>191.885000</td>\n",
       "      <td>0</td>\n",
       "      <td>0</td>\n",
       "      <td>1</td>\n",
       "      <td>0</td>\n",
       "      <td>0</td>\n",
       "      <td>1</td>\n",
       "      <td>...</td>\n",
       "      <td>0</td>\n",
       "      <td>0</td>\n",
       "      <td>0</td>\n",
       "      <td>0</td>\n",
       "      <td>1</td>\n",
       "      <td>0</td>\n",
       "      <td>0</td>\n",
       "      <td>0</td>\n",
       "      <td>0</td>\n",
       "      <td>1</td>\n",
       "    </tr>\n",
       "    <tr>\n",
       "      <th>4</th>\n",
       "      <td>8.187250</td>\n",
       "      <td>20.0</td>\n",
       "      <td>22</td>\n",
       "      <td>162.414545</td>\n",
       "      <td>1</td>\n",
       "      <td>0</td>\n",
       "      <td>0</td>\n",
       "      <td>0</td>\n",
       "      <td>0</td>\n",
       "      <td>1</td>\n",
       "      <td>...</td>\n",
       "      <td>0</td>\n",
       "      <td>0</td>\n",
       "      <td>0</td>\n",
       "      <td>0</td>\n",
       "      <td>1</td>\n",
       "      <td>0</td>\n",
       "      <td>0</td>\n",
       "      <td>1</td>\n",
       "      <td>0</td>\n",
       "      <td>0</td>\n",
       "    </tr>\n",
       "  </tbody>\n",
       "</table>\n",
       "<p>5 rows × 31 columns</p>\n",
       "</div>"
      ],
      "text/plain": [
       "   time_spent  first_deposit_amount  n_days_gt10_l30d  avg_bal_gt10_l30d  \\\n",
       "0   33.129417                  40.0                22          80.800000   \n",
       "1   16.573517                 200.0                22         387.156364   \n",
       "2   10.008367                  25.0                22          49.240000   \n",
       "3    1.031633                 100.0                22         191.885000   \n",
       "4    8.187250                  20.0                22         162.414545   \n",
       "\n",
       "   risk_tolerance_high_risk_tolerance  risk_tolerance_low_risk_tolerance  \\\n",
       "0                                   1                                  0   \n",
       "1                                   0                                  0   \n",
       "2                                   0                                  0   \n",
       "3                                   0                                  0   \n",
       "4                                   1                                  0   \n",
       "\n",
       "   risk_tolerance_med_risk_tolerance  \\\n",
       "0                                  0   \n",
       "1                                  1   \n",
       "2                                  1   \n",
       "3                                  1   \n",
       "4                                  0   \n",
       "\n",
       "   investment_experience_extensive_investment_exp  \\\n",
       "0                                               0   \n",
       "1                                               0   \n",
       "2                                               0   \n",
       "3                                               0   \n",
       "4                                               0   \n",
       "\n",
       "   investment_experience_good_investment_exp  \\\n",
       "0                                          0   \n",
       "1                                          0   \n",
       "2                                          0   \n",
       "3                                          0   \n",
       "4                                          0   \n",
       "\n",
       "   investment_experience_limited_investment_exp  ...  \\\n",
       "0                                             1  ...   \n",
       "1                                             1  ...   \n",
       "2                                             1  ...   \n",
       "3                                             1  ...   \n",
       "4                                             1  ...   \n",
       "\n",
       "   instrument_type_first_traded_lp  instrument_type_first_traded_mlp  \\\n",
       "0                                0                                 0   \n",
       "1                                0                                 0   \n",
       "2                                0                                 0   \n",
       "3                                0                                 0   \n",
       "4                                0                                 0   \n",
       "\n",
       "   instrument_type_first_traded_reit  instrument_type_first_traded_rlt  \\\n",
       "0                                  0                                 0   \n",
       "1                                  0                                 0   \n",
       "2                                  0                                 0   \n",
       "3                                  0                                 0   \n",
       "4                                  0                                 0   \n",
       "\n",
       "   instrument_type_first_traded_stock  instrument_type_first_traded_tracking  \\\n",
       "0                                   1                                      0   \n",
       "1                                   1                                      0   \n",
       "2                                   1                                      0   \n",
       "3                                   1                                      0   \n",
       "4                                   1                                      0   \n",
       "\n",
       "   instrument_type_first_traded_wrt  time_horizon_long_time_horizon  \\\n",
       "0                                 0                               0   \n",
       "1                                 0                               0   \n",
       "2                                 0                               1   \n",
       "3                                 0                               0   \n",
       "4                                 0                               1   \n",
       "\n",
       "   time_horizon_med_time_horizon  time_horizon_short_time_horizon  \n",
       "0                              1                                0  \n",
       "1                              0                                1  \n",
       "2                              0                                0  \n",
       "3                              0                                1  \n",
       "4                              0                                0  \n",
       "\n",
       "[5 rows x 31 columns]"
      ]
     },
     "execution_count": 23,
     "metadata": {},
     "output_type": "execute_result"
    }
   ],
   "source": [
    "### OneHot Encoding for Categorical features\n",
    "X = pd.get_dummies(data_train, columns = cat_cols)\n",
    "X.head()"
   ]
  },
  {
   "cell_type": "markdown",
   "metadata": {},
   "source": [
    "### Isolation forest model - returns scores of test data points (- anomaly, + normal)"
   ]
  },
  {
   "cell_type": "code",
   "execution_count": 24,
   "metadata": {},
   "outputs": [
    {
     "name": "stdout",
     "output_type": "stream",
     "text": [
      "CPU times: user 481 ms, sys: 37 ms, total: 518 ms\n",
      "Wall time: 517 ms\n"
     ]
    }
   ],
   "source": [
    "%%time\n",
    "clf = IsolationForest(n_estimators=100, max_samples=99,random_state=999, contamination=0.05, n_jobs=1)\n",
    "clf.fit(X)\n",
    "scores = clf.decision_function(X)"
   ]
  },
  {
   "cell_type": "code",
   "execution_count": 25,
   "metadata": {},
   "outputs": [
    {
     "name": "stdout",
     "output_type": "stream",
     "text": [
      "(5584,)\n",
      "(5584, 31)\n"
     ]
    },
    {
     "data": {
      "text/plain": [
       "(array([  1.,   0.,   0.,   1.,   3.,   1.,   0.,   3.,   4.,  10.,  15.,\n",
       "         16.,  21.,  15.,  27.,  35.,  39.,  51.,  61.,  67.,  81., 109.,\n",
       "        112., 121.,  99., 134., 147., 149., 171., 206., 193., 216., 208.,\n",
       "        180., 199., 237., 288., 301., 270., 195., 235., 179., 239., 192.,\n",
       "        160.,  46.,  92., 175.,  90., 190.]),\n",
       " array([-0.13702991, -0.13173965, -0.1264494 , -0.12115915, -0.1158689 ,\n",
       "        -0.11057865, -0.1052884 , -0.09999814, -0.09470789, -0.08941764,\n",
       "        -0.08412739, -0.07883714, -0.07354689, -0.06825663, -0.06296638,\n",
       "        -0.05767613, -0.05238588, -0.04709563, -0.04180538, -0.03651512,\n",
       "        -0.03122487, -0.02593462, -0.02064437, -0.01535412, -0.01006387,\n",
       "        -0.00477361,  0.00051664,  0.00580689,  0.01109714,  0.01638739,\n",
       "         0.02167764,  0.0269679 ,  0.03225815,  0.0375484 ,  0.04283865,\n",
       "         0.0481289 ,  0.05341915,  0.05870941,  0.06399966,  0.06928991,\n",
       "         0.07458016,  0.07987041,  0.08516066,  0.09045092,  0.09574117,\n",
       "         0.10103142,  0.10632167,  0.11161192,  0.11690217,  0.12219243,\n",
       "         0.12748268]),\n",
       " <a list of 50 Patch objects>)"
      ]
     },
     "execution_count": 25,
     "metadata": {},
     "output_type": "execute_result"
    },
    {
     "data": {
      "image/png": "[encoded data removed]",
      "text/plain": [
       "<Figure size 864x576 with 1 Axes>"
      ]
     },
     "metadata": {
      "needs_background": "light"
     },
     "output_type": "display_data"
    }
   ],
   "source": [
    "### Distribution of scores\n",
    "print(scores.shape)\n",
    "print(X.shape)\n",
    "plt.figure(figsize=(12, 8))\n",
    "plt.hist(scores, bins=50)"
   ]
  },
  {
   "cell_type": "code",
   "execution_count": 26,
   "metadata": {},
   "outputs": [
    {
     "name": "stdout",
     "output_type": "stream",
     "text": [
      "(5584, 31)\n",
      "(5584, 32)\n"
     ]
    }
   ],
   "source": [
    "X_scores = X.copy()\n",
    "threshold = -0.05 ## how do you decide threshold\n",
    "print(X.shape)\n",
    "X_scores['scores'] = scores\n",
    "print(X_scores.shape)"
   ]
  },
  {
   "cell_type": "code",
   "execution_count": 31,
   "metadata": {},
   "outputs": [],
   "source": [
    "data_raw['score'] = X_scores['scores']\n",
    "data_raw['anomaly'] = np.where(data_raw['score' ]<threshold, 1, 0)"
   ]
  },
  {
   "cell_type": "code",
   "execution_count": 32,
   "metadata": {},
   "outputs": [
    {
     "data": {
      "text/html": [
       "<div>\n",
       "<style scoped>\n",
       "    .dataframe tbody tr th:only-of-type {\n",
       "        vertical-align: middle;\n",
       "    }\n",
       "\n",
       "    .dataframe tbody tr th {\n",
       "        vertical-align: top;\n",
       "    }\n",
       "\n",
       "    .dataframe thead th {\n",
       "        text-align: right;\n",
       "    }\n",
       "</style>\n",
       "<table border=\"1\" class=\"dataframe\">\n",
       "  <thead>\n",
       "    <tr style=\"text-align: right;\">\n",
       "      <th></th>\n",
       "      <th>Unnamed: 0</th>\n",
       "      <th>risk_tolerance</th>\n",
       "      <th>investment_experience</th>\n",
       "      <th>liquidity_needs</th>\n",
       "      <th>platform</th>\n",
       "      <th>time_spent</th>\n",
       "      <th>instrument_type_first_traded</th>\n",
       "      <th>first_deposit_amount</th>\n",
       "      <th>time_horizon</th>\n",
       "      <th>user_id</th>\n",
       "      <th>churn</th>\n",
       "      <th>n_days_gt10_l30d</th>\n",
       "      <th>avg_bal_gt10_l30d</th>\n",
       "      <th>score</th>\n",
       "      <th>anomaly</th>\n",
       "    </tr>\n",
       "  </thead>\n",
       "  <tbody>\n",
       "    <tr>\n",
       "      <th>0</th>\n",
       "      <td>1</td>\n",
       "      <td>high_risk_tolerance</td>\n",
       "      <td>limited_investment_exp</td>\n",
       "      <td>very_important_liq_need</td>\n",
       "      <td>Android</td>\n",
       "      <td>33.129417</td>\n",
       "      <td>stock</td>\n",
       "      <td>40.0</td>\n",
       "      <td>med_time_horizon</td>\n",
       "      <td>895044c23edc821881e87da749c01034</td>\n",
       "      <td>0</td>\n",
       "      <td>22</td>\n",
       "      <td>80.800000</td>\n",
       "      <td>0.068373</td>\n",
       "      <td>0</td>\n",
       "    </tr>\n",
       "    <tr>\n",
       "      <th>1</th>\n",
       "      <td>2</td>\n",
       "      <td>med_risk_tolerance</td>\n",
       "      <td>limited_investment_exp</td>\n",
       "      <td>very_important_liq_need</td>\n",
       "      <td>Android</td>\n",
       "      <td>16.573517</td>\n",
       "      <td>stock</td>\n",
       "      <td>200.0</td>\n",
       "      <td>short_time_horizon</td>\n",
       "      <td>458b1d95441ced242949deefe8e4b638</td>\n",
       "      <td>0</td>\n",
       "      <td>22</td>\n",
       "      <td>387.156364</td>\n",
       "      <td>0.063231</td>\n",
       "      <td>0</td>\n",
       "    </tr>\n",
       "    <tr>\n",
       "      <th>2</th>\n",
       "      <td>3</td>\n",
       "      <td>med_risk_tolerance</td>\n",
       "      <td>limited_investment_exp</td>\n",
       "      <td>very_important_liq_need</td>\n",
       "      <td>iOS</td>\n",
       "      <td>10.008367</td>\n",
       "      <td>stock</td>\n",
       "      <td>25.0</td>\n",
       "      <td>long_time_horizon</td>\n",
       "      <td>c7936f653d293479e034865db9bb932f</td>\n",
       "      <td>0</td>\n",
       "      <td>22</td>\n",
       "      <td>49.240000</td>\n",
       "      <td>0.080095</td>\n",
       "      <td>0</td>\n",
       "    </tr>\n",
       "    <tr>\n",
       "      <th>3</th>\n",
       "      <td>4</td>\n",
       "      <td>med_risk_tolerance</td>\n",
       "      <td>limited_investment_exp</td>\n",
       "      <td>very_important_liq_need</td>\n",
       "      <td>Android</td>\n",
       "      <td>1.031633</td>\n",
       "      <td>stock</td>\n",
       "      <td>100.0</td>\n",
       "      <td>short_time_horizon</td>\n",
       "      <td>b255d4bd6c9ba194d3a350b3e76c6393</td>\n",
       "      <td>0</td>\n",
       "      <td>22</td>\n",
       "      <td>191.885000</td>\n",
       "      <td>0.064993</td>\n",
       "      <td>0</td>\n",
       "    </tr>\n",
       "    <tr>\n",
       "      <th>4</th>\n",
       "      <td>5</td>\n",
       "      <td>high_risk_tolerance</td>\n",
       "      <td>limited_investment_exp</td>\n",
       "      <td>very_important_liq_need</td>\n",
       "      <td>Android</td>\n",
       "      <td>8.187250</td>\n",
       "      <td>stock</td>\n",
       "      <td>20.0</td>\n",
       "      <td>long_time_horizon</td>\n",
       "      <td>4a168225e89375b8de605cbc0977ae91</td>\n",
       "      <td>0</td>\n",
       "      <td>22</td>\n",
       "      <td>162.414545</td>\n",
       "      <td>0.089891</td>\n",
       "      <td>0</td>\n",
       "    </tr>\n",
       "    <tr>\n",
       "      <th>5</th>\n",
       "      <td>6</td>\n",
       "      <td>med_risk_tolerance</td>\n",
       "      <td>no_investment_exp</td>\n",
       "      <td>not_important_liq_need</td>\n",
       "      <td>iOS</td>\n",
       "      <td>12.968117</td>\n",
       "      <td>stock</td>\n",
       "      <td>100.0</td>\n",
       "      <td>med_time_horizon</td>\n",
       "      <td>0322b1d744cc89ebbe6ebe70d824d922</td>\n",
       "      <td>0</td>\n",
       "      <td>17</td>\n",
       "      <td>379.116765</td>\n",
       "      <td>-0.031287</td>\n",
       "      <td>0</td>\n",
       "    </tr>\n",
       "    <tr>\n",
       "      <th>6</th>\n",
       "      <td>7</td>\n",
       "      <td>low_risk_tolerance</td>\n",
       "      <td>good_investment_exp</td>\n",
       "      <td>very_important_liq_need</td>\n",
       "      <td>Android</td>\n",
       "      <td>30.710083</td>\n",
       "      <td>stock</td>\n",
       "      <td>5.0</td>\n",
       "      <td>long_time_horizon</td>\n",
       "      <td>f4cac8c1544b723ddedc9bdba81c64c0</td>\n",
       "      <td>1</td>\n",
       "      <td>21</td>\n",
       "      <td>103.252667</td>\n",
       "      <td>-0.021307</td>\n",
       "      <td>0</td>\n",
       "    </tr>\n",
       "    <tr>\n",
       "      <th>7</th>\n",
       "      <td>8</td>\n",
       "      <td>high_risk_tolerance</td>\n",
       "      <td>good_investment_exp</td>\n",
       "      <td>somewhat_important_liq_need</td>\n",
       "      <td>iOS</td>\n",
       "      <td>0.000000</td>\n",
       "      <td>stock</td>\n",
       "      <td>100.0</td>\n",
       "      <td>short_time_horizon</td>\n",
       "      <td>bdc39d2fc664ef9a5e6713168057f892</td>\n",
       "      <td>0</td>\n",
       "      <td>22</td>\n",
       "      <td>1138.830455</td>\n",
       "      <td>0.049419</td>\n",
       "      <td>0</td>\n",
       "    </tr>\n",
       "    <tr>\n",
       "      <th>8</th>\n",
       "      <td>9</td>\n",
       "      <td>high_risk_tolerance</td>\n",
       "      <td>good_investment_exp</td>\n",
       "      <td>very_important_liq_need</td>\n",
       "      <td>iOS</td>\n",
       "      <td>0.000000</td>\n",
       "      <td>stock</td>\n",
       "      <td>5000.0</td>\n",
       "      <td>short_time_horizon</td>\n",
       "      <td>85f2f0f54411b4f3e7a403ba902e7280</td>\n",
       "      <td>0</td>\n",
       "      <td>22</td>\n",
       "      <td>7232.257727</td>\n",
       "      <td>0.047448</td>\n",
       "      <td>0</td>\n",
       "    </tr>\n",
       "    <tr>\n",
       "      <th>9</th>\n",
       "      <td>10</td>\n",
       "      <td>med_risk_tolerance</td>\n",
       "      <td>no_investment_exp</td>\n",
       "      <td>very_important_liq_need</td>\n",
       "      <td>Android</td>\n",
       "      <td>2.969617</td>\n",
       "      <td>stock</td>\n",
       "      <td>11.0</td>\n",
       "      <td>med_time_horizon</td>\n",
       "      <td>529ddd19dac72d55cde8e633340a9aed</td>\n",
       "      <td>0</td>\n",
       "      <td>21</td>\n",
       "      <td>27.984762</td>\n",
       "      <td>0.022594</td>\n",
       "      <td>0</td>\n",
       "    </tr>\n",
       "  </tbody>\n",
       "</table>\n",
       "</div>"
      ],
      "text/plain": [
       "   Unnamed: 0       risk_tolerance   investment_experience  \\\n",
       "0           1  high_risk_tolerance  limited_investment_exp   \n",
       "1           2   med_risk_tolerance  limited_investment_exp   \n",
       "2           3   med_risk_tolerance  limited_investment_exp   \n",
       "3           4   med_risk_tolerance  limited_investment_exp   \n",
       "4           5  high_risk_tolerance  limited_investment_exp   \n",
       "5           6   med_risk_tolerance       no_investment_exp   \n",
       "6           7   low_risk_tolerance     good_investment_exp   \n",
       "7           8  high_risk_tolerance     good_investment_exp   \n",
       "8           9  high_risk_tolerance     good_investment_exp   \n",
       "9          10   med_risk_tolerance       no_investment_exp   \n",
       "\n",
       "               liquidity_needs platform  time_spent  \\\n",
       "0      very_important_liq_need  Android   33.129417   \n",
       "1      very_important_liq_need  Android   16.573517   \n",
       "2      very_important_liq_need      iOS   10.008367   \n",
       "3      very_important_liq_need  Android    1.031633   \n",
       "4      very_important_liq_need  Android    8.187250   \n",
       "5       not_important_liq_need      iOS   12.968117   \n",
       "6      very_important_liq_need  Android   30.710083   \n",
       "7  somewhat_important_liq_need      iOS    0.000000   \n",
       "8      very_important_liq_need      iOS    0.000000   \n",
       "9      very_important_liq_need  Android    2.969617   \n",
       "\n",
       "  instrument_type_first_traded  first_deposit_amount        time_horizon  \\\n",
       "0                        stock                  40.0    med_time_horizon   \n",
       "1                        stock                 200.0  short_time_horizon   \n",
       "2                        stock                  25.0   long_time_horizon   \n",
       "3                        stock                 100.0  short_time_horizon   \n",
       "4                        stock                  20.0   long_time_horizon   \n",
       "5                        stock                 100.0    med_time_horizon   \n",
       "6                        stock                   5.0   long_time_horizon   \n",
       "7                        stock                 100.0  short_time_horizon   \n",
       "8                        stock                5000.0  short_time_horizon   \n",
       "9                        stock                  11.0    med_time_horizon   \n",
       "\n",
       "                            user_id  churn  n_days_gt10_l30d  \\\n",
       "0  895044c23edc821881e87da749c01034      0                22   \n",
       "1  458b1d95441ced242949deefe8e4b638      0                22   \n",
       "2  c7936f653d293479e034865db9bb932f      0                22   \n",
       "3  b255d4bd6c9ba194d3a350b3e76c6393      0                22   \n",
       "4  4a168225e89375b8de605cbc0977ae91      0                22   \n",
       "5  0322b1d744cc89ebbe6ebe70d824d922      0                17   \n",
       "6  f4cac8c1544b723ddedc9bdba81c64c0      1                21   \n",
       "7  bdc39d2fc664ef9a5e6713168057f892      0                22   \n",
       "8  85f2f0f54411b4f3e7a403ba902e7280      0                22   \n",
       "9  529ddd19dac72d55cde8e633340a9aed      0                21   \n",
       "\n",
       "   avg_bal_gt10_l30d     score  anomaly  \n",
       "0          80.800000  0.068373        0  \n",
       "1         387.156364  0.063231        0  \n",
       "2          49.240000  0.080095        0  \n",
       "3         191.885000  0.064993        0  \n",
       "4         162.414545  0.089891        0  \n",
       "5         379.116765 -0.031287        0  \n",
       "6         103.252667 -0.021307        0  \n",
       "7        1138.830455  0.049419        0  \n",
       "8        7232.257727  0.047448        0  \n",
       "9          27.984762  0.022594        0  "
      ]
     },
     "execution_count": 32,
     "metadata": {},
     "output_type": "execute_result"
    }
   ],
   "source": [
    "data_raw.head(10)"
   ]
  },
  {
   "cell_type": "code",
   "execution_count": 33,
   "metadata": {},
   "outputs": [
    {
     "name": "stdout",
     "output_type": "stream",
     "text": [
      "('anomalous', 173)\n",
      "('normal', 5411)\n"
     ]
    }
   ],
   "source": [
    "anomalous = data_raw[data_raw['score']<threshold]\n",
    "normal = data_raw[data_raw['score']>=threshold]\n",
    "\n",
    "print('anomalous',len(anomalous))\n",
    "print('normal',len(normal))"
   ]
  },
  {
   "cell_type": "code",
   "execution_count": 42,
   "metadata": {},
   "outputs": [
    {
     "data": {
      "text/plain": [
       "anomaly\n",
       "0    5411\n",
       "1     173\n",
       "Name: user_id, dtype: int64"
      ]
     },
     "execution_count": 42,
     "metadata": {},
     "output_type": "execute_result"
    }
   ],
   "source": [
    "data_raw.groupby('anomaly').count()['user_id']"
   ]
  },
  {
   "cell_type": "code",
   "execution_count": 40,
   "metadata": {},
   "outputs": [
    {
     "data": {
      "text/html": [
       "<div>\n",
       "<style scoped>\n",
       "    .dataframe tbody tr th:only-of-type {\n",
       "        vertical-align: middle;\n",
       "    }\n",
       "\n",
       "    .dataframe tbody tr th {\n",
       "        vertical-align: top;\n",
       "    }\n",
       "\n",
       "    .dataframe thead th {\n",
       "        text-align: right;\n",
       "    }\n",
       "</style>\n",
       "<table border=\"1\" class=\"dataframe\">\n",
       "  <thead>\n",
       "    <tr style=\"text-align: right;\">\n",
       "      <th></th>\n",
       "      <th></th>\n",
       "      <th>Count</th>\n",
       "    </tr>\n",
       "    <tr>\n",
       "      <th>churn</th>\n",
       "      <th>anomaly</th>\n",
       "      <th></th>\n",
       "    </tr>\n",
       "  </thead>\n",
       "  <tbody>\n",
       "    <tr>\n",
       "      <th rowspan=\"2\" valign=\"top\">0</th>\n",
       "      <th>0</th>\n",
       "      <td>5149</td>\n",
       "    </tr>\n",
       "    <tr>\n",
       "      <th>1</th>\n",
       "      <td>160</td>\n",
       "    </tr>\n",
       "    <tr>\n",
       "      <th rowspan=\"2\" valign=\"top\">1</th>\n",
       "      <th>0</th>\n",
       "      <td>262</td>\n",
       "    </tr>\n",
       "    <tr>\n",
       "      <th>1</th>\n",
       "      <td>13</td>\n",
       "    </tr>\n",
       "  </tbody>\n",
       "</table>\n",
       "</div>"
      ],
      "text/plain": [
       "               Count\n",
       "churn anomaly       \n",
       "0     0         5149\n",
       "      1          160\n",
       "1     0          262\n",
       "      1           13"
      ]
     },
     "execution_count": 40,
     "metadata": {},
     "output_type": "execute_result"
    }
   ],
   "source": [
    "data_raw.groupby(['churn','anomaly']).agg({\"user_id\":\"count\"}).rename(columns={\"user_id\":\"Count\"})"
   ]
  },
  {
   "cell_type": "code",
   "execution_count": null,
   "metadata": {},
   "outputs": [],
   "source": [
    "### Normalize Data"
   ]
  },
  {
   "cell_type": "code",
   "execution_count": 43,
   "metadata": {},
   "outputs": [],
   "source": [
    "data_cluster = data_raw[['time_spent', 'first_deposit_amount']]"
   ]
  },
  {
   "cell_type": "code",
   "execution_count": 44,
   "metadata": {},
   "outputs": [
    {
     "data": {
      "text/html": [
       "<div>\n",
       "<style scoped>\n",
       "    .dataframe tbody tr th:only-of-type {\n",
       "        vertical-align: middle;\n",
       "    }\n",
       "\n",
       "    .dataframe tbody tr th {\n",
       "        vertical-align: top;\n",
       "    }\n",
       "\n",
       "    .dataframe thead th {\n",
       "        text-align: right;\n",
       "    }\n",
       "</style>\n",
       "<table border=\"1\" class=\"dataframe\">\n",
       "  <thead>\n",
       "    <tr style=\"text-align: right;\">\n",
       "      <th></th>\n",
       "      <th>time_spent</th>\n",
       "      <th>first_deposit_amount</th>\n",
       "    </tr>\n",
       "  </thead>\n",
       "  <tbody>\n",
       "    <tr>\n",
       "      <th>0</th>\n",
       "      <td>33.129417</td>\n",
       "      <td>40.0</td>\n",
       "    </tr>\n",
       "    <tr>\n",
       "      <th>1</th>\n",
       "      <td>16.573517</td>\n",
       "      <td>200.0</td>\n",
       "    </tr>\n",
       "    <tr>\n",
       "      <th>2</th>\n",
       "      <td>10.008367</td>\n",
       "      <td>25.0</td>\n",
       "    </tr>\n",
       "    <tr>\n",
       "      <th>3</th>\n",
       "      <td>1.031633</td>\n",
       "      <td>100.0</td>\n",
       "    </tr>\n",
       "    <tr>\n",
       "      <th>4</th>\n",
       "      <td>8.187250</td>\n",
       "      <td>20.0</td>\n",
       "    </tr>\n",
       "  </tbody>\n",
       "</table>\n",
       "</div>"
      ],
      "text/plain": [
       "   time_spent  first_deposit_amount\n",
       "0   33.129417                  40.0\n",
       "1   16.573517                 200.0\n",
       "2   10.008367                  25.0\n",
       "3    1.031633                 100.0\n",
       "4    8.187250                  20.0"
      ]
     },
     "execution_count": 44,
     "metadata": {},
     "output_type": "execute_result"
    }
   ],
   "source": [
    "data_cluster.head(5)"
   ]
  },
  {
   "cell_type": "code",
   "execution_count": 45,
   "metadata": {},
   "outputs": [],
   "source": [
    "from sklearn.preprocessing import StandardScaler\n",
    "scaler = StandardScaler()"
   ]
  },
  {
   "cell_type": "code",
   "execution_count": 48,
   "metadata": {},
   "outputs": [],
   "source": [
    "data_norm = scaler.fit_transform(data_cluster)"
   ]
  },
  {
   "cell_type": "code",
   "execution_count": 50,
   "metadata": {},
   "outputs": [
    {
     "data": {
      "text/plain": [
       "array([[-0.00890126, -0.28023105],\n",
       "       [-0.1156676 , -0.20469285],\n",
       "       [-0.1580052 , -0.28731276],\n",
       "       ...,\n",
       "       [-0.07443598, -0.27550992],\n",
       "       [-0.15587676, -0.25190423],\n",
       "       [-0.10343136, -0.27550992]])"
      ]
     },
     "execution_count": 50,
     "metadata": {},
     "output_type": "execute_result"
    }
   ],
   "source": [
    "data_norm"
   ]
  },
  {
   "cell_type": "code",
   "execution_count": 53,
   "metadata": {},
   "outputs": [
    {
     "data": {
      "text/plain": [
       "KMeans(algorithm='auto', copy_x=True, init='k-means++', max_iter=300,\n",
       "    n_clusters=2, n_init=1000, n_jobs=None, precompute_distances='auto',\n",
       "    random_state=95865, tol=0.0001, verbose=0)"
      ]
     },
     "execution_count": 53,
     "metadata": {},
     "output_type": "execute_result"
    }
   ],
   "source": [
    "from sklearn.cluster import KMeans\n",
    "kmeans = KMeans(n_clusters=2, n_init=1000, random_state=95865)\n",
    "kmeans.fit(data_norm)"
   ]
  },
  {
   "cell_type": "code",
   "execution_count": 54,
   "metadata": {},
   "outputs": [
    {
     "data": {
      "text/plain": [
       "(-3.059230750422565, 59.2886599657381, -1.4834470895871237, 24.49090371375597)"
      ]
     },
     "execution_count": 54,
     "metadata": {},
     "output_type": "execute_result"
    },
    {
     "data": {
      "image/png": "[encoded data removed]",
      "text/plain": [
       "<Figure size 1440x1080 with 1 Axes>"
      ]
     },
     "metadata": {
      "needs_background": "light"
     },
     "output_type": "display_data"
    }
   ],
   "source": [
    "kmeans_cluster_assignments = kmeans.predict(data_norm)\n",
    "\n",
    "plt.figure(figsize=(20, 15))\n",
    "plt.scatter(data_norm[:, 0], data_norm[:, 1],\n",
    "            c=kmeans_cluster_assignments, cmap='Set1')\n",
    "plt.axis('equal')"
   ]
  },
  {
   "cell_type": "code",
   "execution_count": 55,
   "metadata": {},
   "outputs": [],
   "source": [
    "data_raw['cluster'] = kmeans.predict(data_norm)"
   ]
  },
  {
   "cell_type": "code",
   "execution_count": 56,
   "metadata": {},
   "outputs": [
    {
     "data": {
      "text/html": [
       "<div>\n",
       "<style scoped>\n",
       "    .dataframe tbody tr th:only-of-type {\n",
       "        vertical-align: middle;\n",
       "    }\n",
       "\n",
       "    .dataframe tbody tr th {\n",
       "        vertical-align: top;\n",
       "    }\n",
       "\n",
       "    .dataframe thead th {\n",
       "        text-align: right;\n",
       "    }\n",
       "</style>\n",
       "<table border=\"1\" class=\"dataframe\">\n",
       "  <thead>\n",
       "    <tr style=\"text-align: right;\">\n",
       "      <th></th>\n",
       "      <th>Unnamed: 0</th>\n",
       "      <th>risk_tolerance</th>\n",
       "      <th>investment_experience</th>\n",
       "      <th>liquidity_needs</th>\n",
       "      <th>platform</th>\n",
       "      <th>time_spent</th>\n",
       "      <th>instrument_type_first_traded</th>\n",
       "      <th>first_deposit_amount</th>\n",
       "      <th>time_horizon</th>\n",
       "      <th>user_id</th>\n",
       "      <th>churn</th>\n",
       "      <th>n_days_gt10_l30d</th>\n",
       "      <th>avg_bal_gt10_l30d</th>\n",
       "      <th>score</th>\n",
       "      <th>anomaly</th>\n",
       "      <th>cluster</th>\n",
       "    </tr>\n",
       "  </thead>\n",
       "  <tbody>\n",
       "    <tr>\n",
       "      <th>0</th>\n",
       "      <td>1</td>\n",
       "      <td>high_risk_tolerance</td>\n",
       "      <td>limited_investment_exp</td>\n",
       "      <td>very_important_liq_need</td>\n",
       "      <td>Android</td>\n",
       "      <td>33.129417</td>\n",
       "      <td>stock</td>\n",
       "      <td>40.0</td>\n",
       "      <td>med_time_horizon</td>\n",
       "      <td>895044c23edc821881e87da749c01034</td>\n",
       "      <td>0</td>\n",
       "      <td>22</td>\n",
       "      <td>80.800000</td>\n",
       "      <td>0.068373</td>\n",
       "      <td>0</td>\n",
       "      <td>0</td>\n",
       "    </tr>\n",
       "    <tr>\n",
       "      <th>1</th>\n",
       "      <td>2</td>\n",
       "      <td>med_risk_tolerance</td>\n",
       "      <td>limited_investment_exp</td>\n",
       "      <td>very_important_liq_need</td>\n",
       "      <td>Android</td>\n",
       "      <td>16.573517</td>\n",
       "      <td>stock</td>\n",
       "      <td>200.0</td>\n",
       "      <td>short_time_horizon</td>\n",
       "      <td>458b1d95441ced242949deefe8e4b638</td>\n",
       "      <td>0</td>\n",
       "      <td>22</td>\n",
       "      <td>387.156364</td>\n",
       "      <td>0.063231</td>\n",
       "      <td>0</td>\n",
       "      <td>0</td>\n",
       "    </tr>\n",
       "    <tr>\n",
       "      <th>2</th>\n",
       "      <td>3</td>\n",
       "      <td>med_risk_tolerance</td>\n",
       "      <td>limited_investment_exp</td>\n",
       "      <td>very_important_liq_need</td>\n",
       "      <td>iOS</td>\n",
       "      <td>10.008367</td>\n",
       "      <td>stock</td>\n",
       "      <td>25.0</td>\n",
       "      <td>long_time_horizon</td>\n",
       "      <td>c7936f653d293479e034865db9bb932f</td>\n",
       "      <td>0</td>\n",
       "      <td>22</td>\n",
       "      <td>49.240000</td>\n",
       "      <td>0.080095</td>\n",
       "      <td>0</td>\n",
       "      <td>0</td>\n",
       "    </tr>\n",
       "    <tr>\n",
       "      <th>3</th>\n",
       "      <td>4</td>\n",
       "      <td>med_risk_tolerance</td>\n",
       "      <td>limited_investment_exp</td>\n",
       "      <td>very_important_liq_need</td>\n",
       "      <td>Android</td>\n",
       "      <td>1.031633</td>\n",
       "      <td>stock</td>\n",
       "      <td>100.0</td>\n",
       "      <td>short_time_horizon</td>\n",
       "      <td>b255d4bd6c9ba194d3a350b3e76c6393</td>\n",
       "      <td>0</td>\n",
       "      <td>22</td>\n",
       "      <td>191.885000</td>\n",
       "      <td>0.064993</td>\n",
       "      <td>0</td>\n",
       "      <td>0</td>\n",
       "    </tr>\n",
       "    <tr>\n",
       "      <th>4</th>\n",
       "      <td>5</td>\n",
       "      <td>high_risk_tolerance</td>\n",
       "      <td>limited_investment_exp</td>\n",
       "      <td>very_important_liq_need</td>\n",
       "      <td>Android</td>\n",
       "      <td>8.187250</td>\n",
       "      <td>stock</td>\n",
       "      <td>20.0</td>\n",
       "      <td>long_time_horizon</td>\n",
       "      <td>4a168225e89375b8de605cbc0977ae91</td>\n",
       "      <td>0</td>\n",
       "      <td>22</td>\n",
       "      <td>162.414545</td>\n",
       "      <td>0.089891</td>\n",
       "      <td>0</td>\n",
       "      <td>0</td>\n",
       "    </tr>\n",
       "  </tbody>\n",
       "</table>\n",
       "</div>"
      ],
      "text/plain": [
       "   Unnamed: 0       risk_tolerance   investment_experience  \\\n",
       "0           1  high_risk_tolerance  limited_investment_exp   \n",
       "1           2   med_risk_tolerance  limited_investment_exp   \n",
       "2           3   med_risk_tolerance  limited_investment_exp   \n",
       "3           4   med_risk_tolerance  limited_investment_exp   \n",
       "4           5  high_risk_tolerance  limited_investment_exp   \n",
       "\n",
       "           liquidity_needs platform  time_spent instrument_type_first_traded  \\\n",
       "0  very_important_liq_need  Android   33.129417                        stock   \n",
       "1  very_important_liq_need  Android   16.573517                        stock   \n",
       "2  very_important_liq_need      iOS   10.008367                        stock   \n",
       "3  very_important_liq_need  Android    1.031633                        stock   \n",
       "4  very_important_liq_need  Android    8.187250                        stock   \n",
       "\n",
       "   first_deposit_amount        time_horizon                           user_id  \\\n",
       "0                  40.0    med_time_horizon  895044c23edc821881e87da749c01034   \n",
       "1                 200.0  short_time_horizon  458b1d95441ced242949deefe8e4b638   \n",
       "2                  25.0   long_time_horizon  c7936f653d293479e034865db9bb932f   \n",
       "3                 100.0  short_time_horizon  b255d4bd6c9ba194d3a350b3e76c6393   \n",
       "4                  20.0   long_time_horizon  4a168225e89375b8de605cbc0977ae91   \n",
       "\n",
       "   churn  n_days_gt10_l30d  avg_bal_gt10_l30d     score  anomaly  cluster  \n",
       "0      0                22          80.800000  0.068373        0        0  \n",
       "1      0                22         387.156364  0.063231        0        0  \n",
       "2      0                22          49.240000  0.080095        0        0  \n",
       "3      0                22         191.885000  0.064993        0        0  \n",
       "4      0                22         162.414545  0.089891        0        0  "
      ]
     },
     "execution_count": 56,
     "metadata": {},
     "output_type": "execute_result"
    }
   ],
   "source": [
    "data_raw.head(5)"
   ]
  },
  {
   "cell_type": "code",
   "execution_count": 57,
   "metadata": {},
   "outputs": [
    {
     "data": {
      "text/html": [
       "<div>\n",
       "<style scoped>\n",
       "    .dataframe tbody tr th:only-of-type {\n",
       "        vertical-align: middle;\n",
       "    }\n",
       "\n",
       "    .dataframe tbody tr th {\n",
       "        vertical-align: top;\n",
       "    }\n",
       "\n",
       "    .dataframe thead th {\n",
       "        text-align: right;\n",
       "    }\n",
       "</style>\n",
       "<table border=\"1\" class=\"dataframe\">\n",
       "  <thead>\n",
       "    <tr style=\"text-align: right;\">\n",
       "      <th></th>\n",
       "      <th></th>\n",
       "      <th></th>\n",
       "      <th>Count</th>\n",
       "    </tr>\n",
       "    <tr>\n",
       "      <th>churn</th>\n",
       "      <th>anomaly</th>\n",
       "      <th>cluster</th>\n",
       "      <th></th>\n",
       "    </tr>\n",
       "  </thead>\n",
       "  <tbody>\n",
       "    <tr>\n",
       "      <th rowspan=\"4\" valign=\"top\">0</th>\n",
       "      <th rowspan=\"2\" valign=\"top\">0</th>\n",
       "      <th>0</th>\n",
       "      <td>5132</td>\n",
       "    </tr>\n",
       "    <tr>\n",
       "      <th>1</th>\n",
       "      <td>17</td>\n",
       "    </tr>\n",
       "    <tr>\n",
       "      <th rowspan=\"2\" valign=\"top\">1</th>\n",
       "      <th>0</th>\n",
       "      <td>153</td>\n",
       "    </tr>\n",
       "    <tr>\n",
       "      <th>1</th>\n",
       "      <td>7</td>\n",
       "    </tr>\n",
       "    <tr>\n",
       "      <th rowspan=\"3\" valign=\"top\">1</th>\n",
       "      <th rowspan=\"2\" valign=\"top\">0</th>\n",
       "      <th>0</th>\n",
       "      <td>261</td>\n",
       "    </tr>\n",
       "    <tr>\n",
       "      <th>1</th>\n",
       "      <td>1</td>\n",
       "    </tr>\n",
       "    <tr>\n",
       "      <th>1</th>\n",
       "      <th>0</th>\n",
       "      <td>13</td>\n",
       "    </tr>\n",
       "  </tbody>\n",
       "</table>\n",
       "</div>"
      ],
      "text/plain": [
       "                       Count\n",
       "churn anomaly cluster       \n",
       "0     0       0         5132\n",
       "              1           17\n",
       "      1       0          153\n",
       "              1            7\n",
       "1     0       0          261\n",
       "              1            1\n",
       "      1       0           13"
      ]
     },
     "execution_count": 57,
     "metadata": {},
     "output_type": "execute_result"
    }
   ],
   "source": [
    "data_raw.groupby(['churn','anomaly','cluster']).agg({\"user_id\":\"count\"}).rename(columns={\"user_id\":\"Count\"})"
   ]
  },
  {
   "cell_type": "code",
   "execution_count": 67,
   "metadata": {},
   "outputs": [],
   "source": [
    "### detecting outliers\n",
    "#import seaborn as sns\n",
    "#sns.boxplot(x=data_cluster['time_spent'])"
   ]
  },
  {
   "cell_type": "code",
   "execution_count": 63,
   "metadata": {},
   "outputs": [
    {
     "name": "stdout",
     "output_type": "stream",
     "text": [
      "time_spent               33.823829\n",
      "first_deposit_amount    500.000000\n",
      "Name: 0.75, dtype: float64\n",
      "time_spent               2.848908\n",
      "first_deposit_amount    50.000000\n",
      "Name: 0.25, dtype: float64\n",
      "time_spent               30.974921\n",
      "first_deposit_amount    450.000000\n",
      "dtype: float64\n"
     ]
    }
   ],
   "source": [
    "Q1 = data_cluster.quantile(0.25)\n",
    "Q3 = data_cluster.quantile(0.75)\n",
    "IQR = Q3 - Q1\n",
    "print(Q3)\n",
    "print(Q1)\n",
    "print(IQR)\n",
    "\n",
    "###df = df[~((df < (Q1 - 1.5 * IQR)) |(df > (Q3 + 1.5 * IQR))).any(axis=1)]"
   ]
  },
  {
   "cell_type": "code",
   "execution_count": 64,
   "metadata": {},
   "outputs": [],
   "source": [
    "data_cluster = data_cluster[~((data_cluster < (Q1 - 1.5 * IQR)) |(data_cluster > (Q3 + 1.5 * IQR))).any(axis=1)]"
   ]
  },
  {
   "cell_type": "code",
   "execution_count": 65,
   "metadata": {},
   "outputs": [
    {
     "data": {
      "text/plain": [
       "KMeans(algorithm='auto', copy_x=True, init='k-means++', max_iter=300,\n",
       "    n_clusters=2, n_init=1000, n_jobs=None, precompute_distances='auto',\n",
       "    random_state=95865, tol=0.0001, verbose=0)"
      ]
     },
     "execution_count": 65,
     "metadata": {},
     "output_type": "execute_result"
    }
   ],
   "source": [
    "data_norm = scaler.fit_transform(data_cluster)\n",
    "from sklearn.cluster import KMeans\n",
    "kmeans = KMeans(n_clusters=2, n_init=1000, random_state=95865)\n",
    "kmeans.fit(data_norm)"
   ]
  },
  {
   "cell_type": "code",
   "execution_count": 66,
   "metadata": {},
   "outputs": [
    {
     "data": {
      "text/plain": [
       "(-1.1545341882899123,\n",
       " 3.5097290465887476,\n",
       " -0.9746617974979592,\n",
       " 3.0402106900044883)"
      ]
     },
     "execution_count": 66,
     "metadata": {},
     "output_type": "execute_result"
    },
    {
     "data": {
      "image/png": "[encoded data removed]",
      "text/plain": [
       "<Figure size 1440x1080 with 1 Axes>"
      ]
     },
     "metadata": {
      "needs_background": "light"
     },
     "output_type": "display_data"
    }
   ],
   "source": [
    "kmeans_cluster_assignments = kmeans.predict(data_norm)\n",
    "\n",
    "plt.figure(figsize=(20, 15))\n",
    "plt.scatter(data_norm[:, 0], data_norm[:, 1],\n",
    "            c=kmeans_cluster_assignments, cmap='Set1')\n",
    "plt.axis('equal')"
   ]
  },
  {
   "cell_type": "code",
   "execution_count": 70,
   "metadata": {},
   "outputs": [
    {
     "data": {
      "image/png": "[encoded data removed]",
      "text/plain": [
       "<Figure size 720x432 with 1 Axes>"
      ]
     },
     "metadata": {
      "needs_background": "light"
     },
     "output_type": "display_data"
    }
   ],
   "source": [
    "fig, ax=plt.subplots(figsize=(10,6))\n",
    "ax.scatter(data_raw['time_spent'], data_raw['first_deposit_amount'], c=data_raw['churn'])\n",
    "ax.set_xlabel('time_spent')\n",
    "ax.set_ylabel('first_deposit_amount')\n",
    "plt.show()"
   ]
  },
  {
   "cell_type": "code",
   "execution_count": 73,
   "metadata": {},
   "outputs": [],
   "source": [
    "data_v2 = data_raw.query(\"time_spent < 1000 and first_deposit_amount<5000\")"
   ]
  },
  {
   "cell_type": "code",
   "execution_count": 74,
   "metadata": {},
   "outputs": [
    {
     "data": {
      "image/png": "[encoded data removed]",
      "text/plain": [
       "<Figure size 720x432 with 1 Axes>"
      ]
     },
     "metadata": {
      "needs_background": "light"
     },
     "output_type": "display_data"
    }
   ],
   "source": [
    "fig, ax=plt.subplots(figsize=(10,6))\n",
    "ax.scatter(data_v2['time_spent'], data_v2['first_deposit_amount'], c=data_v2['churn'])\n",
    "ax.set_xlabel('time_spent')\n",
    "ax.set_ylabel('first_deposit_amount')\n",
    "plt.show()"
   ]
  },
  {
   "cell_type": "code",
   "execution_count": null,
   "metadata": {},
   "outputs": [],
   "source": []
  },
  {
   "cell_type": "code",
   "execution_count": null,
   "metadata": {},
   "outputs": [],
   "source": []
  },
  {
   "cell_type": "code",
   "execution_count": null,
   "metadata": {},
   "outputs": [],
   "source": []
  }
 ],
 "metadata": {
  "kernelspec": {
   "display_name": "Python 2 (General DS)",
   "language": "python",
   "name": "python2"
  },
  "language_info": {
   "codemirror_mode": {
    "name": "ipython",
    "version": 2
   },
   "file_extension": ".py",
   "mimetype": "text/x-python",
   "name": "python",
   "nbconvert_exporter": "python",
   "pygments_lexer": "ipython2",
   "version": "2.7.10"
  }
 },
 "nbformat": 4,
 "nbformat_minor": 2
}
