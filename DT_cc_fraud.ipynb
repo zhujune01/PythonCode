{
 "cells": [
  {
   "cell_type": "code",
   "execution_count": 10,
   "metadata": {
    "scrolled": true
   },
   "outputs": [
    {
     "name": "stdout",
     "output_type": "stream",
     "text": [
      "\u001b[32mUpdating dependencies\u001b[0m\n",
      "\u001b[2K\u001b[32mResolving dependencies\u001b[0m... \u001b[30;1m(4.7s)\u001b[0m\u001b[32mResolving dependencies\u001b[0m... \u001b[30;1m(3.2s)\u001b[0m\u001b[32mResolving dependencies\u001b[0m... \u001b[30;1m(4.0s)\u001b[0m\n",
      "\n",
      "\u001b[32mWriting lock file\u001b[0m\n",
      "\n",
      "\n",
      "Package operations: \u001b[32m1\u001b[0m install, \u001b[32m0\u001b[0m updates, \u001b[32m1\u001b[0m removal\n",
      "\n",
      "  - Installing \u001b[32mwheel\u001b[0m (\u001b[36m0.35.1\u001b[0m)\n",
      "  - Removing \u001b[32mscikit-learn\u001b[0m (\u001b[36m0.18.1\u001b[0m)\n"
     ]
    }
   ],
   "source": [
    "#!install_package_python3.sh remove scikit-learn\n",
    "#!install_package_python3.sh add scikit-learn\n",
    "#!install_package_python3.sh add  imbalanced-learn\n",
    "#!install_package_python3.sh add  threadpoolctl\n",
    "#!install_package_python3.sh add pydotplus\n",
    "#!install_package_python3.sh add six"
   ]
  },
  {
   "cell_type": "code",
   "execution_count": 1,
   "metadata": {},
   "outputs": [],
   "source": [
    "import numpy as np\n",
    "import pandas as pd\n",
    "import matplotlib\n",
    "\n",
    "import matplotlib.pyplot as plt\n",
    "%matplotlib inline"
   ]
  },
  {
   "cell_type": "code",
   "execution_count": 2,
   "metadata": {},
   "outputs": [],
   "source": [
    "import sklearn\n",
    "from sklearn.preprocessing import LabelEncoder\n",
    "from sklearn.preprocessing import OneHotEncoder\n",
    "from sklearn.preprocessing import StandardScaler\n",
    "from sklearn.model_selection import train_test_split"
   ]
  },
  {
   "cell_type": "markdown",
   "metadata": {},
   "source": [
    "## 1. Import model data and check missing data, feature correlation etc"
   ]
  },
  {
   "cell_type": "code",
   "execution_count": 7,
   "metadata": {},
   "outputs": [],
   "source": [
    "df = pd.read_csv('creditcard_t.csv')"
   ]
  },
  {
   "cell_type": "code",
   "execution_count": 8,
   "metadata": {},
   "outputs": [
    {
     "data": {
      "text/plain": [
       "(84807, 31)"
      ]
     },
     "execution_count": 8,
     "metadata": {},
     "output_type": "execute_result"
    }
   ],
   "source": [
    "df.shape"
   ]
  },
  {
   "cell_type": "code",
   "execution_count": 9,
   "metadata": {},
   "outputs": [
    {
     "data": {
      "text/html": [
       "<div>\n",
       "<style scoped>\n",
       "    .dataframe tbody tr th:only-of-type {\n",
       "        vertical-align: middle;\n",
       "    }\n",
       "\n",
       "    .dataframe tbody tr th {\n",
       "        vertical-align: top;\n",
       "    }\n",
       "\n",
       "    .dataframe thead th {\n",
       "        text-align: right;\n",
       "    }\n",
       "</style>\n",
       "<table border=\"1\" class=\"dataframe\">\n",
       "  <thead>\n",
       "    <tr style=\"text-align: right;\">\n",
       "      <th></th>\n",
       "      <th>Time</th>\n",
       "      <th>V1</th>\n",
       "      <th>V2</th>\n",
       "      <th>V3</th>\n",
       "      <th>V4</th>\n",
       "      <th>V5</th>\n",
       "      <th>V6</th>\n",
       "      <th>V7</th>\n",
       "      <th>V8</th>\n",
       "      <th>V9</th>\n",
       "      <th>...</th>\n",
       "      <th>V21</th>\n",
       "      <th>V22</th>\n",
       "      <th>V23</th>\n",
       "      <th>V24</th>\n",
       "      <th>V25</th>\n",
       "      <th>V26</th>\n",
       "      <th>V27</th>\n",
       "      <th>V28</th>\n",
       "      <th>Amount</th>\n",
       "      <th>Class</th>\n",
       "    </tr>\n",
       "  </thead>\n",
       "  <tbody>\n",
       "    <tr>\n",
       "      <th>0</th>\n",
       "      <td>0</td>\n",
       "      <td>-1.359807</td>\n",
       "      <td>-0.072781</td>\n",
       "      <td>2.536347</td>\n",
       "      <td>1.378155</td>\n",
       "      <td>-0.338321</td>\n",
       "      <td>0.462388</td>\n",
       "      <td>0.239599</td>\n",
       "      <td>0.098698</td>\n",
       "      <td>0.363787</td>\n",
       "      <td>...</td>\n",
       "      <td>-0.018307</td>\n",
       "      <td>0.277838</td>\n",
       "      <td>-0.110474</td>\n",
       "      <td>0.066928</td>\n",
       "      <td>0.128539</td>\n",
       "      <td>-0.189115</td>\n",
       "      <td>0.133558</td>\n",
       "      <td>-0.021053</td>\n",
       "      <td>149.62</td>\n",
       "      <td>0</td>\n",
       "    </tr>\n",
       "    <tr>\n",
       "      <th>1</th>\n",
       "      <td>0</td>\n",
       "      <td>1.191857</td>\n",
       "      <td>0.266151</td>\n",
       "      <td>0.166480</td>\n",
       "      <td>0.448154</td>\n",
       "      <td>0.060018</td>\n",
       "      <td>-0.082361</td>\n",
       "      <td>-0.078803</td>\n",
       "      <td>0.085102</td>\n",
       "      <td>-0.255425</td>\n",
       "      <td>...</td>\n",
       "      <td>-0.225775</td>\n",
       "      <td>-0.638672</td>\n",
       "      <td>0.101288</td>\n",
       "      <td>-0.339846</td>\n",
       "      <td>0.167170</td>\n",
       "      <td>0.125895</td>\n",
       "      <td>-0.008983</td>\n",
       "      <td>0.014724</td>\n",
       "      <td>2.69</td>\n",
       "      <td>0</td>\n",
       "    </tr>\n",
       "    <tr>\n",
       "      <th>2</th>\n",
       "      <td>1</td>\n",
       "      <td>-1.358354</td>\n",
       "      <td>-1.340163</td>\n",
       "      <td>1.773209</td>\n",
       "      <td>0.379780</td>\n",
       "      <td>-0.503198</td>\n",
       "      <td>1.800499</td>\n",
       "      <td>0.791461</td>\n",
       "      <td>0.247676</td>\n",
       "      <td>-1.514654</td>\n",
       "      <td>...</td>\n",
       "      <td>0.247998</td>\n",
       "      <td>0.771679</td>\n",
       "      <td>0.909412</td>\n",
       "      <td>-0.689281</td>\n",
       "      <td>-0.327642</td>\n",
       "      <td>-0.139097</td>\n",
       "      <td>-0.055353</td>\n",
       "      <td>-0.059752</td>\n",
       "      <td>378.66</td>\n",
       "      <td>0</td>\n",
       "    </tr>\n",
       "    <tr>\n",
       "      <th>3</th>\n",
       "      <td>1</td>\n",
       "      <td>-0.966272</td>\n",
       "      <td>-0.185226</td>\n",
       "      <td>1.792993</td>\n",
       "      <td>-0.863291</td>\n",
       "      <td>-0.010309</td>\n",
       "      <td>1.247203</td>\n",
       "      <td>0.237609</td>\n",
       "      <td>0.377436</td>\n",
       "      <td>-1.387024</td>\n",
       "      <td>...</td>\n",
       "      <td>-0.108300</td>\n",
       "      <td>0.005274</td>\n",
       "      <td>-0.190321</td>\n",
       "      <td>-1.175575</td>\n",
       "      <td>0.647376</td>\n",
       "      <td>-0.221929</td>\n",
       "      <td>0.062723</td>\n",
       "      <td>0.061458</td>\n",
       "      <td>123.50</td>\n",
       "      <td>0</td>\n",
       "    </tr>\n",
       "    <tr>\n",
       "      <th>4</th>\n",
       "      <td>2</td>\n",
       "      <td>-1.158233</td>\n",
       "      <td>0.877737</td>\n",
       "      <td>1.548718</td>\n",
       "      <td>0.403034</td>\n",
       "      <td>-0.407193</td>\n",
       "      <td>0.095921</td>\n",
       "      <td>0.592941</td>\n",
       "      <td>-0.270533</td>\n",
       "      <td>0.817739</td>\n",
       "      <td>...</td>\n",
       "      <td>-0.009431</td>\n",
       "      <td>0.798278</td>\n",
       "      <td>-0.137458</td>\n",
       "      <td>0.141267</td>\n",
       "      <td>-0.206010</td>\n",
       "      <td>0.502292</td>\n",
       "      <td>0.219422</td>\n",
       "      <td>0.215153</td>\n",
       "      <td>69.99</td>\n",
       "      <td>0</td>\n",
       "    </tr>\n",
       "  </tbody>\n",
       "</table>\n",
       "<p>5 rows × 31 columns</p>\n",
       "</div>"
      ],
      "text/plain": [
       "   Time        V1        V2        V3        V4        V5        V6        V7  \\\n",
       "0     0 -1.359807 -0.072781  2.536347  1.378155 -0.338321  0.462388  0.239599   \n",
       "1     0  1.191857  0.266151  0.166480  0.448154  0.060018 -0.082361 -0.078803   \n",
       "2     1 -1.358354 -1.340163  1.773209  0.379780 -0.503198  1.800499  0.791461   \n",
       "3     1 -0.966272 -0.185226  1.792993 -0.863291 -0.010309  1.247203  0.237609   \n",
       "4     2 -1.158233  0.877737  1.548718  0.403034 -0.407193  0.095921  0.592941   \n",
       "\n",
       "         V8        V9  ...       V21       V22       V23       V24       V25  \\\n",
       "0  0.098698  0.363787  ... -0.018307  0.277838 -0.110474  0.066928  0.128539   \n",
       "1  0.085102 -0.255425  ... -0.225775 -0.638672  0.101288 -0.339846  0.167170   \n",
       "2  0.247676 -1.514654  ...  0.247998  0.771679  0.909412 -0.689281 -0.327642   \n",
       "3  0.377436 -1.387024  ... -0.108300  0.005274 -0.190321 -1.175575  0.647376   \n",
       "4 -0.270533  0.817739  ... -0.009431  0.798278 -0.137458  0.141267 -0.206010   \n",
       "\n",
       "        V26       V27       V28  Amount  Class  \n",
       "0 -0.189115  0.133558 -0.021053  149.62      0  \n",
       "1  0.125895 -0.008983  0.014724    2.69      0  \n",
       "2 -0.139097 -0.055353 -0.059752  378.66      0  \n",
       "3 -0.221929  0.062723  0.061458  123.50      0  \n",
       "4  0.502292  0.219422  0.215153   69.99      0  \n",
       "\n",
       "[5 rows x 31 columns]"
      ]
     },
     "execution_count": 9,
     "metadata": {},
     "output_type": "execute_result"
    }
   ],
   "source": [
    "df.head()"
   ]
  },
  {
   "cell_type": "code",
   "execution_count": 10,
   "metadata": {},
   "outputs": [
    {
     "data": {
      "text/html": [
       "<div>\n",
       "<style scoped>\n",
       "    .dataframe tbody tr th:only-of-type {\n",
       "        vertical-align: middle;\n",
       "    }\n",
       "\n",
       "    .dataframe tbody tr th {\n",
       "        vertical-align: top;\n",
       "    }\n",
       "\n",
       "    .dataframe thead th {\n",
       "        text-align: right;\n",
       "    }\n",
       "</style>\n",
       "<table border=\"1\" class=\"dataframe\">\n",
       "  <thead>\n",
       "    <tr style=\"text-align: right;\">\n",
       "      <th></th>\n",
       "      <th>Time</th>\n",
       "      <th>V1</th>\n",
       "      <th>V2</th>\n",
       "      <th>V3</th>\n",
       "      <th>V4</th>\n",
       "      <th>V5</th>\n",
       "      <th>V6</th>\n",
       "      <th>V7</th>\n",
       "      <th>V8</th>\n",
       "      <th>V9</th>\n",
       "      <th>...</th>\n",
       "      <th>V21</th>\n",
       "      <th>V22</th>\n",
       "      <th>V23</th>\n",
       "      <th>V24</th>\n",
       "      <th>V25</th>\n",
       "      <th>V26</th>\n",
       "      <th>V27</th>\n",
       "      <th>V28</th>\n",
       "      <th>Amount</th>\n",
       "      <th>Class</th>\n",
       "    </tr>\n",
       "  </thead>\n",
       "  <tbody>\n",
       "    <tr>\n",
       "      <th>count</th>\n",
       "      <td>84807.000000</td>\n",
       "      <td>84807.000000</td>\n",
       "      <td>84807.000000</td>\n",
       "      <td>84807.000000</td>\n",
       "      <td>84807.000000</td>\n",
       "      <td>84807.000000</td>\n",
       "      <td>84807.000000</td>\n",
       "      <td>84807.000000</td>\n",
       "      <td>84807.000000</td>\n",
       "      <td>84807.000000</td>\n",
       "      <td>...</td>\n",
       "      <td>84807.000000</td>\n",
       "      <td>84807.000000</td>\n",
       "      <td>84807.000000</td>\n",
       "      <td>84807.000000</td>\n",
       "      <td>84807.000000</td>\n",
       "      <td>84807.000000</td>\n",
       "      <td>84807.000000</td>\n",
       "      <td>84807.000000</td>\n",
       "      <td>84807.000000</td>\n",
       "      <td>84807.000000</td>\n",
       "    </tr>\n",
       "    <tr>\n",
       "      <th>mean</th>\n",
       "      <td>38581.959673</td>\n",
       "      <td>-0.262839</td>\n",
       "      <td>-0.039465</td>\n",
       "      <td>0.678863</td>\n",
       "      <td>0.163825</td>\n",
       "      <td>-0.277675</td>\n",
       "      <td>0.094775</td>\n",
       "      <td>-0.111841</td>\n",
       "      <td>0.053913</td>\n",
       "      <td>-0.020025</td>\n",
       "      <td>...</td>\n",
       "      <td>-0.029145</td>\n",
       "      <td>-0.105529</td>\n",
       "      <td>-0.037849</td>\n",
       "      <td>0.008794</td>\n",
       "      <td>0.133741</td>\n",
       "      <td>0.026214</td>\n",
       "      <td>0.001527</td>\n",
       "      <td>0.001955</td>\n",
       "      <td>98.403557</td>\n",
       "      <td>0.002405</td>\n",
       "    </tr>\n",
       "    <tr>\n",
       "      <th>std</th>\n",
       "      <td>15628.190360</td>\n",
       "      <td>1.880359</td>\n",
       "      <td>1.671837</td>\n",
       "      <td>1.368737</td>\n",
       "      <td>1.363831</td>\n",
       "      <td>1.376329</td>\n",
       "      <td>1.303629</td>\n",
       "      <td>1.239126</td>\n",
       "      <td>1.224672</td>\n",
       "      <td>1.135724</td>\n",
       "      <td>...</td>\n",
       "      <td>0.732949</td>\n",
       "      <td>0.635332</td>\n",
       "      <td>0.627630</td>\n",
       "      <td>0.595111</td>\n",
       "      <td>0.441004</td>\n",
       "      <td>0.497151</td>\n",
       "      <td>0.389879</td>\n",
       "      <td>0.328873</td>\n",
       "      <td>268.751306</td>\n",
       "      <td>0.048987</td>\n",
       "    </tr>\n",
       "    <tr>\n",
       "      <th>min</th>\n",
       "      <td>0.000000</td>\n",
       "      <td>-56.407510</td>\n",
       "      <td>-72.715728</td>\n",
       "      <td>-33.680984</td>\n",
       "      <td>-5.172595</td>\n",
       "      <td>-42.147898</td>\n",
       "      <td>-26.160506</td>\n",
       "      <td>-31.764946</td>\n",
       "      <td>-73.216718</td>\n",
       "      <td>-9.283925</td>\n",
       "      <td>...</td>\n",
       "      <td>-34.830382</td>\n",
       "      <td>-10.933144</td>\n",
       "      <td>-26.751119</td>\n",
       "      <td>-2.836627</td>\n",
       "      <td>-7.495741</td>\n",
       "      <td>-2.534330</td>\n",
       "      <td>-9.390980</td>\n",
       "      <td>-9.617915</td>\n",
       "      <td>0.000000</td>\n",
       "      <td>0.000000</td>\n",
       "    </tr>\n",
       "    <tr>\n",
       "      <th>25%</th>\n",
       "      <td>31533.000000</td>\n",
       "      <td>-1.025353</td>\n",
       "      <td>-0.603074</td>\n",
       "      <td>0.184474</td>\n",
       "      <td>-0.722489</td>\n",
       "      <td>-0.896920</td>\n",
       "      <td>-0.643768</td>\n",
       "      <td>-0.603571</td>\n",
       "      <td>-0.140741</td>\n",
       "      <td>-0.690347</td>\n",
       "      <td>...</td>\n",
       "      <td>-0.223707</td>\n",
       "      <td>-0.524652</td>\n",
       "      <td>-0.178298</td>\n",
       "      <td>-0.322577</td>\n",
       "      <td>-0.130486</td>\n",
       "      <td>-0.326348</td>\n",
       "      <td>-0.063429</td>\n",
       "      <td>-0.005919</td>\n",
       "      <td>7.680000</td>\n",
       "      <td>0.000000</td>\n",
       "    </tr>\n",
       "    <tr>\n",
       "      <th>50%</th>\n",
       "      <td>41092.000000</td>\n",
       "      <td>-0.257764</td>\n",
       "      <td>0.069888</td>\n",
       "      <td>0.762844</td>\n",
       "      <td>0.186825</td>\n",
       "      <td>-0.311771</td>\n",
       "      <td>-0.154845</td>\n",
       "      <td>-0.072505</td>\n",
       "      <td>0.070007</td>\n",
       "      <td>-0.096141</td>\n",
       "      <td>...</td>\n",
       "      <td>-0.057716</td>\n",
       "      <td>-0.080607</td>\n",
       "      <td>-0.050009</td>\n",
       "      <td>0.064430</td>\n",
       "      <td>0.171913</td>\n",
       "      <td>-0.072750</td>\n",
       "      <td>0.009312</td>\n",
       "      <td>0.022936</td>\n",
       "      <td>26.990000</td>\n",
       "      <td>0.000000</td>\n",
       "    </tr>\n",
       "    <tr>\n",
       "      <th>75%</th>\n",
       "      <td>50795.000000</td>\n",
       "      <td>1.153103</td>\n",
       "      <td>0.724403</td>\n",
       "      <td>1.391255</td>\n",
       "      <td>1.042554</td>\n",
       "      <td>0.257611</td>\n",
       "      <td>0.488497</td>\n",
       "      <td>0.416654</td>\n",
       "      <td>0.352501</td>\n",
       "      <td>0.604597</td>\n",
       "      <td>...</td>\n",
       "      <td>0.118297</td>\n",
       "      <td>0.309740</td>\n",
       "      <td>0.080637</td>\n",
       "      <td>0.405825</td>\n",
       "      <td>0.421344</td>\n",
       "      <td>0.306341</td>\n",
       "      <td>0.082449</td>\n",
       "      <td>0.076060</td>\n",
       "      <td>89.900000</td>\n",
       "      <td>0.000000</td>\n",
       "    </tr>\n",
       "    <tr>\n",
       "      <th>max</th>\n",
       "      <td>60468.000000</td>\n",
       "      <td>1.960497</td>\n",
       "      <td>18.902453</td>\n",
       "      <td>4.226108</td>\n",
       "      <td>16.715537</td>\n",
       "      <td>34.801666</td>\n",
       "      <td>22.529298</td>\n",
       "      <td>36.677268</td>\n",
       "      <td>20.007208</td>\n",
       "      <td>10.392889</td>\n",
       "      <td>...</td>\n",
       "      <td>22.614889</td>\n",
       "      <td>10.503090</td>\n",
       "      <td>18.946734</td>\n",
       "      <td>4.014444</td>\n",
       "      <td>5.525093</td>\n",
       "      <td>3.517346</td>\n",
       "      <td>12.152401</td>\n",
       "      <td>33.847808</td>\n",
       "      <td>19656.530000</td>\n",
       "      <td>1.000000</td>\n",
       "    </tr>\n",
       "  </tbody>\n",
       "</table>\n",
       "<p>8 rows × 31 columns</p>\n",
       "</div>"
      ],
      "text/plain": [
       "               Time            V1            V2            V3            V4  \\\n",
       "count  84807.000000  84807.000000  84807.000000  84807.000000  84807.000000   \n",
       "mean   38581.959673     -0.262839     -0.039465      0.678863      0.163825   \n",
       "std    15628.190360      1.880359      1.671837      1.368737      1.363831   \n",
       "min        0.000000    -56.407510    -72.715728    -33.680984     -5.172595   \n",
       "25%    31533.000000     -1.025353     -0.603074      0.184474     -0.722489   \n",
       "50%    41092.000000     -0.257764      0.069888      0.762844      0.186825   \n",
       "75%    50795.000000      1.153103      0.724403      1.391255      1.042554   \n",
       "max    60468.000000      1.960497     18.902453      4.226108     16.715537   \n",
       "\n",
       "                 V5            V6            V7            V8            V9  \\\n",
       "count  84807.000000  84807.000000  84807.000000  84807.000000  84807.000000   \n",
       "mean      -0.277675      0.094775     -0.111841      0.053913     -0.020025   \n",
       "std        1.376329      1.303629      1.239126      1.224672      1.135724   \n",
       "min      -42.147898    -26.160506    -31.764946    -73.216718     -9.283925   \n",
       "25%       -0.896920     -0.643768     -0.603571     -0.140741     -0.690347   \n",
       "50%       -0.311771     -0.154845     -0.072505      0.070007     -0.096141   \n",
       "75%        0.257611      0.488497      0.416654      0.352501      0.604597   \n",
       "max       34.801666     22.529298     36.677268     20.007208     10.392889   \n",
       "\n",
       "       ...           V21           V22           V23           V24  \\\n",
       "count  ...  84807.000000  84807.000000  84807.000000  84807.000000   \n",
       "mean   ...     -0.029145     -0.105529     -0.037849      0.008794   \n",
       "std    ...      0.732949      0.635332      0.627630      0.595111   \n",
       "min    ...    -34.830382    -10.933144    -26.751119     -2.836627   \n",
       "25%    ...     -0.223707     -0.524652     -0.178298     -0.322577   \n",
       "50%    ...     -0.057716     -0.080607     -0.050009      0.064430   \n",
       "75%    ...      0.118297      0.309740      0.080637      0.405825   \n",
       "max    ...     22.614889     10.503090     18.946734      4.014444   \n",
       "\n",
       "                V25           V26           V27           V28        Amount  \\\n",
       "count  84807.000000  84807.000000  84807.000000  84807.000000  84807.000000   \n",
       "mean       0.133741      0.026214      0.001527      0.001955     98.403557   \n",
       "std        0.441004      0.497151      0.389879      0.328873    268.751306   \n",
       "min       -7.495741     -2.534330     -9.390980     -9.617915      0.000000   \n",
       "25%       -0.130486     -0.326348     -0.063429     -0.005919      7.680000   \n",
       "50%        0.171913     -0.072750      0.009312      0.022936     26.990000   \n",
       "75%        0.421344      0.306341      0.082449      0.076060     89.900000   \n",
       "max        5.525093      3.517346     12.152401     33.847808  19656.530000   \n",
       "\n",
       "              Class  \n",
       "count  84807.000000  \n",
       "mean       0.002405  \n",
       "std        0.048987  \n",
       "min        0.000000  \n",
       "25%        0.000000  \n",
       "50%        0.000000  \n",
       "75%        0.000000  \n",
       "max        1.000000  \n",
       "\n",
       "[8 rows x 31 columns]"
      ]
     },
     "execution_count": 10,
     "metadata": {},
     "output_type": "execute_result"
    }
   ],
   "source": [
    "df.describe()"
   ]
  },
  {
   "cell_type": "code",
   "execution_count": 11,
   "metadata": {},
   "outputs": [
    {
     "data": {
      "text/plain": [
       "0    84603\n",
       "1      204\n",
       "Name: Class, dtype: int64"
      ]
     },
     "execution_count": 11,
     "metadata": {},
     "output_type": "execute_result"
    }
   ],
   "source": [
    "df['Class'].value_counts()"
   ]
  },
  {
   "cell_type": "code",
   "execution_count": 13,
   "metadata": {},
   "outputs": [
    {
     "data": {
      "text/html": [
       "<div>\n",
       "<style scoped>\n",
       "    .dataframe tbody tr th:only-of-type {\n",
       "        vertical-align: middle;\n",
       "    }\n",
       "\n",
       "    .dataframe tbody tr th {\n",
       "        vertical-align: top;\n",
       "    }\n",
       "\n",
       "    .dataframe thead tr th {\n",
       "        text-align: left;\n",
       "    }\n",
       "\n",
       "    .dataframe thead tr:last-of-type th {\n",
       "        text-align: right;\n",
       "    }\n",
       "</style>\n",
       "<table border=\"1\" class=\"dataframe\">\n",
       "  <thead>\n",
       "    <tr>\n",
       "      <th></th>\n",
       "      <th colspan=\"8\" halign=\"left\">Time</th>\n",
       "      <th colspan=\"8\" halign=\"left\">Amount</th>\n",
       "    </tr>\n",
       "    <tr>\n",
       "      <th></th>\n",
       "      <th>count</th>\n",
       "      <th>mean</th>\n",
       "      <th>std</th>\n",
       "      <th>min</th>\n",
       "      <th>25%</th>\n",
       "      <th>50%</th>\n",
       "      <th>75%</th>\n",
       "      <th>max</th>\n",
       "      <th>count</th>\n",
       "      <th>mean</th>\n",
       "      <th>std</th>\n",
       "      <th>min</th>\n",
       "      <th>25%</th>\n",
       "      <th>50%</th>\n",
       "      <th>75%</th>\n",
       "      <th>max</th>\n",
       "    </tr>\n",
       "    <tr>\n",
       "      <th>Class</th>\n",
       "      <th></th>\n",
       "      <th></th>\n",
       "      <th></th>\n",
       "      <th></th>\n",
       "      <th></th>\n",
       "      <th></th>\n",
       "      <th></th>\n",
       "      <th></th>\n",
       "      <th></th>\n",
       "      <th></th>\n",
       "      <th></th>\n",
       "      <th></th>\n",
       "      <th></th>\n",
       "      <th></th>\n",
       "      <th></th>\n",
       "      <th></th>\n",
       "    </tr>\n",
       "  </thead>\n",
       "  <tbody>\n",
       "    <tr>\n",
       "      <th>0</th>\n",
       "      <td>84603.0</td>\n",
       "      <td>38592.677730</td>\n",
       "      <td>15625.028577</td>\n",
       "      <td>0.0</td>\n",
       "      <td>31549.00</td>\n",
       "      <td>41095.0</td>\n",
       "      <td>50802.0</td>\n",
       "      <td>60468.0</td>\n",
       "      <td>84603.0</td>\n",
       "      <td>98.394917</td>\n",
       "      <td>268.841131</td>\n",
       "      <td>0.0</td>\n",
       "      <td>7.69</td>\n",
       "      <td>27.00</td>\n",
       "      <td>89.80</td>\n",
       "      <td>19656.53</td>\n",
       "    </tr>\n",
       "    <tr>\n",
       "      <th>1</th>\n",
       "      <td>204.0</td>\n",
       "      <td>34136.960784</td>\n",
       "      <td>16331.645384</td>\n",
       "      <td>406.0</td>\n",
       "      <td>20421.25</td>\n",
       "      <td>36668.5</td>\n",
       "      <td>45670.0</td>\n",
       "      <td>60353.0</td>\n",
       "      <td>204.0</td>\n",
       "      <td>101.986814</td>\n",
       "      <td>229.008970</td>\n",
       "      <td>0.0</td>\n",
       "      <td>1.00</td>\n",
       "      <td>7.55</td>\n",
       "      <td>99.99</td>\n",
       "      <td>1809.68</td>\n",
       "    </tr>\n",
       "  </tbody>\n",
       "</table>\n",
       "</div>"
      ],
      "text/plain": [
       "          Time                                                                 \\\n",
       "         count          mean           std    min       25%      50%      75%   \n",
       "Class                                                                           \n",
       "0      84603.0  38592.677730  15625.028577    0.0  31549.00  41095.0  50802.0   \n",
       "1        204.0  34136.960784  16331.645384  406.0  20421.25  36668.5  45670.0   \n",
       "\n",
       "                 Amount                                                   \\\n",
       "           max    count        mean         std  min   25%    50%    75%   \n",
       "Class                                                                      \n",
       "0      60468.0  84603.0   98.394917  268.841131  0.0  7.69  27.00  89.80   \n",
       "1      60353.0    204.0  101.986814  229.008970  0.0  1.00   7.55  99.99   \n",
       "\n",
       "                 \n",
       "            max  \n",
       "Class            \n",
       "0      19656.53  \n",
       "1       1809.68  "
      ]
     },
     "execution_count": 13,
     "metadata": {},
     "output_type": "execute_result"
    }
   ],
   "source": [
    "df[['Time','Amount','Class']].groupby('Class').describe()"
   ]
  },
  {
   "cell_type": "code",
   "execution_count": 15,
   "metadata": {},
   "outputs": [
    {
     "data": {
      "text/html": [
       "<div>\n",
       "<style scoped>\n",
       "    .dataframe tbody tr th:only-of-type {\n",
       "        vertical-align: middle;\n",
       "    }\n",
       "\n",
       "    .dataframe tbody tr th {\n",
       "        vertical-align: top;\n",
       "    }\n",
       "\n",
       "    .dataframe thead th {\n",
       "        text-align: right;\n",
       "    }\n",
       "</style>\n",
       "<table border=\"1\" class=\"dataframe\">\n",
       "  <thead>\n",
       "    <tr style=\"text-align: right;\">\n",
       "      <th></th>\n",
       "      <th>V1</th>\n",
       "      <th>V2</th>\n",
       "      <th>V3</th>\n",
       "    </tr>\n",
       "  </thead>\n",
       "  <tbody>\n",
       "    <tr>\n",
       "      <th>V1</th>\n",
       "      <td>1.000000</td>\n",
       "      <td>0.060745</td>\n",
       "      <td>0.246633</td>\n",
       "    </tr>\n",
       "    <tr>\n",
       "      <th>V2</th>\n",
       "      <td>0.060745</td>\n",
       "      <td>1.000000</td>\n",
       "      <td>-0.096922</td>\n",
       "    </tr>\n",
       "    <tr>\n",
       "      <th>V3</th>\n",
       "      <td>0.246633</td>\n",
       "      <td>-0.096922</td>\n",
       "      <td>1.000000</td>\n",
       "    </tr>\n",
       "  </tbody>\n",
       "</table>\n",
       "</div>"
      ],
      "text/plain": [
       "          V1        V2        V3\n",
       "V1  1.000000  0.060745  0.246633\n",
       "V2  0.060745  1.000000 -0.096922\n",
       "V3  0.246633 -0.096922  1.000000"
      ]
     },
     "execution_count": 15,
     "metadata": {},
     "output_type": "execute_result"
    }
   ],
   "source": [
    "## Check correlation matrix\n",
    "corrmat = df[['V1','V2','V3']].corr()\n",
    "corrmat"
   ]
  },
  {
   "cell_type": "code",
   "execution_count": 8,
   "metadata": {},
   "outputs": [],
   "source": [
    "#Removing irrelevant columns/features\n",
    "fraud_df=df.drop(['Time'], axis=1)"
   ]
  },
  {
   "cell_type": "code",
   "execution_count": 17,
   "metadata": {},
   "outputs": [
    {
     "data": {
      "text/plain": [
       "Index([u'V1', u'V2', u'V3', u'V4', u'V5', u'V6', u'V7', u'V8', u'V9', u'V10',\n",
       "       u'V11', u'V12', u'V13', u'V14', u'V15', u'V16', u'V17', u'V18', u'V19',\n",
       "       u'V20', u'V21', u'V22', u'V23', u'V24', u'V25', u'V26', u'V27', u'V28',\n",
       "       u'Amount', u'Class'],\n",
       "      dtype='object')"
      ]
     },
     "execution_count": 17,
     "metadata": {},
     "output_type": "execute_result"
    }
   ],
   "source": [
    "fraud_df.columns"
   ]
  },
  {
   "cell_type": "code",
   "execution_count": 18,
   "metadata": {},
   "outputs": [
    {
     "data": {
      "text/plain": [
       "V1        0\n",
       "V2        0\n",
       "V3        0\n",
       "V4        0\n",
       "V5        0\n",
       "V6        0\n",
       "V7        0\n",
       "V8        0\n",
       "V9        0\n",
       "V10       0\n",
       "V11       0\n",
       "V12       0\n",
       "V13       0\n",
       "V14       0\n",
       "V15       0\n",
       "V16       0\n",
       "V17       0\n",
       "V18       0\n",
       "V19       0\n",
       "V20       0\n",
       "V21       0\n",
       "V22       0\n",
       "V23       0\n",
       "V24       0\n",
       "V25       0\n",
       "V26       0\n",
       "V27       0\n",
       "V28       0\n",
       "Amount    0\n",
       "Class     0\n",
       "dtype: int64"
      ]
     },
     "execution_count": 18,
     "metadata": {},
     "output_type": "execute_result"
    }
   ],
   "source": [
    "## Check missing data\n",
    "fraud_df.isnull().sum()"
   ]
  },
  {
   "cell_type": "markdown",
   "metadata": {},
   "source": [
    "## 2. Preprocessing the data"
   ]
  },
  {
   "cell_type": "code",
   "execution_count": 9,
   "metadata": {},
   "outputs": [],
   "source": [
    "# data preprocessing\n",
    "from sklearn.preprocessing import StandardScaler\n",
    "fraud_df['norm_amount'] = StandardScaler().fit_transform(fraud_df['Amount'].values.reshape(-1,1))"
   ]
  },
  {
   "cell_type": "code",
   "execution_count": 20,
   "metadata": {},
   "outputs": [
    {
     "data": {
      "text/html": [
       "<div>\n",
       "<style scoped>\n",
       "    .dataframe tbody tr th:only-of-type {\n",
       "        vertical-align: middle;\n",
       "    }\n",
       "\n",
       "    .dataframe tbody tr th {\n",
       "        vertical-align: top;\n",
       "    }\n",
       "\n",
       "    .dataframe thead th {\n",
       "        text-align: right;\n",
       "    }\n",
       "</style>\n",
       "<table border=\"1\" class=\"dataframe\">\n",
       "  <thead>\n",
       "    <tr style=\"text-align: right;\">\n",
       "      <th></th>\n",
       "      <th>norm_amount</th>\n",
       "      <th>Amount</th>\n",
       "    </tr>\n",
       "  </thead>\n",
       "  <tbody>\n",
       "    <tr>\n",
       "      <th>0</th>\n",
       "      <td>0.190573</td>\n",
       "      <td>149.62</td>\n",
       "    </tr>\n",
       "    <tr>\n",
       "      <th>1</th>\n",
       "      <td>-0.356144</td>\n",
       "      <td>2.69</td>\n",
       "    </tr>\n",
       "    <tr>\n",
       "      <th>2</th>\n",
       "      <td>1.042816</td>\n",
       "      <td>378.66</td>\n",
       "    </tr>\n",
       "    <tr>\n",
       "      <th>3</th>\n",
       "      <td>0.093382</td>\n",
       "      <td>123.50</td>\n",
       "    </tr>\n",
       "    <tr>\n",
       "      <th>4</th>\n",
       "      <td>-0.105725</td>\n",
       "      <td>69.99</td>\n",
       "    </tr>\n",
       "  </tbody>\n",
       "</table>\n",
       "</div>"
      ],
      "text/plain": [
       "   norm_amount  Amount\n",
       "0     0.190573  149.62\n",
       "1    -0.356144    2.69\n",
       "2     1.042816  378.66\n",
       "3     0.093382  123.50\n",
       "4    -0.105725   69.99"
      ]
     },
     "execution_count": 20,
     "metadata": {},
     "output_type": "execute_result"
    }
   ],
   "source": [
    "fraud_df[['norm_amount','Amount']][0:5]"
   ]
  },
  {
   "cell_type": "code",
   "execution_count": 10,
   "metadata": {},
   "outputs": [],
   "source": [
    "fraud_df = fraud_df.drop(['Amount'], axis=1)"
   ]
  },
  {
   "cell_type": "code",
   "execution_count": 22,
   "metadata": {},
   "outputs": [
    {
     "name": "stdout",
     "output_type": "stream",
     "text": [
      "<class 'pandas.core.frame.DataFrame'>\n",
      "RangeIndex: 84807 entries, 0 to 84806\n",
      "Data columns (total 30 columns):\n",
      "V1             84807 non-null float64\n",
      "V2             84807 non-null float64\n",
      "V3             84807 non-null float64\n",
      "V4             84807 non-null float64\n",
      "V5             84807 non-null float64\n",
      "V6             84807 non-null float64\n",
      "V7             84807 non-null float64\n",
      "V8             84807 non-null float64\n",
      "V9             84807 non-null float64\n",
      "V10            84807 non-null float64\n",
      "V11            84807 non-null float64\n",
      "V12            84807 non-null float64\n",
      "V13            84807 non-null float64\n",
      "V14            84807 non-null float64\n",
      "V15            84807 non-null float64\n",
      "V16            84807 non-null float64\n",
      "V17            84807 non-null float64\n",
      "V18            84807 non-null float64\n",
      "V19            84807 non-null float64\n",
      "V20            84807 non-null float64\n",
      "V21            84807 non-null float64\n",
      "V22            84807 non-null float64\n",
      "V23            84807 non-null float64\n",
      "V24            84807 non-null float64\n",
      "V25            84807 non-null float64\n",
      "V26            84807 non-null float64\n",
      "V27            84807 non-null float64\n",
      "V28            84807 non-null float64\n",
      "Class          84807 non-null int64\n",
      "norm_amount    84807 non-null float64\n",
      "dtypes: float64(29), int64(1)\n",
      "memory usage: 19.4 MB\n"
     ]
    }
   ],
   "source": [
    "fraud_df.info()"
   ]
  },
  {
   "cell_type": "code",
   "execution_count": null,
   "metadata": {},
   "outputs": [],
   "source": []
  },
  {
   "cell_type": "code",
   "execution_count": 11,
   "metadata": {},
   "outputs": [],
   "source": [
    "## Features and target creations\n",
    "X = fraud_df.drop(['Class'], axis=1)\n",
    "y = fraud_df[['Class']]"
   ]
  },
  {
   "cell_type": "code",
   "execution_count": 12,
   "metadata": {},
   "outputs": [
    {
     "name": "stdout",
     "output_type": "stream",
     "text": [
      "(59364, 29)\n",
      "(25443, 29)\n",
      "(59364, 1)\n",
      "(25443, 1)\n"
     ]
    }
   ],
   "source": [
    "# splitting dataset to train & test dataset\n",
    "from sklearn.model_selection import train_test_split\n",
    "X_train, X_test, y_train, y_test = train_test_split(X, y, test_size=0.3, random_state=0)\n",
    "print(X_train.shape)\n",
    "print(X_test.shape)\n",
    "print(y_train.shape)\n",
    "print(y_test.shape)"
   ]
  },
  {
   "cell_type": "markdown",
   "metadata": {},
   "source": [
    "## 3. Model training and performance metrics"
   ]
  },
  {
   "cell_type": "code",
   "execution_count": 32,
   "metadata": {},
   "outputs": [
    {
     "name": "stdout",
     "output_type": "stream",
     "text": [
      "Accuracy of model on test dataset: 0.999371143340015\n",
      "\n",
      " confusion_matrix on test data:\n",
      "[[25374     3]\n",
      " [   13    53]]\n",
      "\n",
      " classification report for f1-score:\n",
      "              precision    recall  f1-score   support\n",
      "\n",
      "           0       1.00      1.00      1.00     25377\n",
      "           1       0.95      0.80      0.87        66\n",
      "\n",
      "    accuracy                           1.00     25443\n",
      "   macro avg       0.97      0.90      0.93     25443\n",
      "weighted avg       1.00      1.00      1.00     25443\n",
      "\n",
      "AUC score of test data: 0.901456042873468\n"
     ]
    }
   ],
   "source": [
    "## Building decision tree\n",
    "from sklearn.tree import DecisionTreeClassifier\n",
    "from sklearn.metrics import confusion_matrix\n",
    "from sklearn.metrics import classification_report\n",
    "from sklearn.metrics import roc_auc_score\n",
    "\n",
    "def decision_tree_classification(X_train, y_train, X_test, y_test):\n",
    "    dt_classifier = DecisionTreeClassifier(criterion = \"gini\", random_state = 100,\n",
    "                               max_depth=4, min_samples_leaf=10)\n",
    "    \n",
    "    dt_classifier.fit(X_train, y_train.values.ravel())\n",
    "    \n",
    "    acc_score = dt_classifier.score(X_test, y_test)\n",
    "    print(\"Accuracy of model on test dataset:\", acc_score)  \n",
    "    # print(f\"Accuracy of model on test dataset : {acc_score}\")\n",
    "    \n",
    "    # predict result using test dataset\n",
    "    y_pred = dt_classifier.predict(X_test)\n",
    "    \n",
    "    # confusion matrix\n",
    "    print(\"\\n confusion_matrix on test data:\")\n",
    "    print(confusion_matrix(y_test, y_pred))\n",
    "    \n",
    "    print(\"\\n classification report for f1-score:\")\n",
    "    print(classification_report(y_test, y_pred))\n",
    "    \n",
    "    print(\"AUC score of test data:\", roc_auc_score(y_test, y_pred))\n",
    "\n",
    "# calling decision_tree_classification method to train and evaluate model\n",
    "decision_tree_classification(X_train, y_train, X_test, y_test)"
   ]
  },
  {
   "cell_type": "markdown",
   "metadata": {},
   "source": [
    "### Undersampling good population"
   ]
  },
  {
   "cell_type": "code",
   "execution_count": 33,
   "metadata": {},
   "outputs": [
    {
     "data": {
      "text/plain": [
       "204"
      ]
     },
     "execution_count": 33,
     "metadata": {},
     "output_type": "execute_result"
    }
   ],
   "source": [
    "fraud=len(fraud_df[fraud_df.Class == 1])\n",
    "fraud"
   ]
  },
  {
   "cell_type": "code",
   "execution_count": 34,
   "metadata": {},
   "outputs": [],
   "source": [
    "## Equal both the target samples to the same level\n",
    "# take indexes of non fraudulent\n",
    "nonfraud_indexies = fraud_df[fraud_df.Class == 0].index\n",
    "fraud_indices = np.array(fraud_df[fraud_df['Class'] == 1].index)\n",
    "\n",
    "\n",
    "# take random samples from non fraudulent that are 3 times to fraudulent samples\n",
    "random_normal_indexies = np.random.choice(nonfraud_indexies, 3*fraud, replace=False)\n",
    "random_normal_indexies = np.array(random_normal_indexies)\n",
    "\n",
    "\n",
    "## Undersampling techniques\n",
    "\n",
    "# concatenate both indices of fraud and non fraud\n",
    "under_sample_indices = np.concatenate([fraud_indices, random_normal_indexies])\n",
    "\n",
    "#extract all features from whole data for under sample indices only\n",
    "under_sample_data = fraud_df.iloc[under_sample_indices, :]\n",
    "\n",
    "# now we have to divide under sampling data to all features & target\n",
    "x_undersample_data = under_sample_data.drop(['Class'], axis=1)\n",
    "y_undersample_data = under_sample_data[['Class']]\n",
    "# now split dataset to train and test datasets as before\n",
    "X_train_sample, X_test_sample, y_train_sample, y_test_sample = train_test_split(\n",
    "x_undersample_data, y_undersample_data, test_size=0.2, random_state=0)"
   ]
  },
  {
   "cell_type": "code",
   "execution_count": 35,
   "metadata": {},
   "outputs": [
    {
     "name": "stdout",
     "output_type": "stream",
     "text": [
      "Accuracy of model on test dataset: 0.9573170731707317\n",
      "\n",
      " confusion_matrix on test data:\n",
      "[[126   2]\n",
      " [  5  31]]\n",
      "\n",
      " classification report for f1-score:\n",
      "              precision    recall  f1-score   support\n",
      "\n",
      "           0       0.96      0.98      0.97       128\n",
      "           1       0.94      0.86      0.90        36\n",
      "\n",
      "    accuracy                           0.96       164\n",
      "   macro avg       0.95      0.92      0.94       164\n",
      "weighted avg       0.96      0.96      0.96       164\n",
      "\n",
      "AUC score of test data: 0.9227430555555556\n"
     ]
    }
   ],
   "source": [
    "# calling decision_tree_classification method to train and evaluate model\n",
    "decision_tree_classification(X_train_sample, y_train_sample, X_test_sample, y_test_sample)"
   ]
  },
  {
   "cell_type": "code",
   "execution_count": 36,
   "metadata": {},
   "outputs": [
    {
     "data": {
      "text/plain": [
       "DecisionTreeClassifier(max_depth=4, min_samples_leaf=10, random_state=100)"
      ]
     },
     "execution_count": 36,
     "metadata": {},
     "output_type": "execute_result"
    }
   ],
   "source": [
    "dt_classifier = DecisionTreeClassifier(criterion = \"gini\", random_state = 100,\n",
    "                               max_depth=4, min_samples_leaf=10)\n",
    "    \n",
    "dt_classifier.fit(X_train_sample, y_train_sample.values.ravel())"
   ]
  },
  {
   "cell_type": "markdown",
   "metadata": {},
   "source": [
    "## Feature Importance"
   ]
  },
  {
   "cell_type": "code",
   "execution_count": 37,
   "metadata": {},
   "outputs": [
    {
     "data": {
      "text/plain": [
       "array([13, 10, 11, 22, 14, 28, 23, 26,  1,  2])"
      ]
     },
     "execution_count": 37,
     "metadata": {},
     "output_type": "execute_result"
    }
   ],
   "source": [
    "importances = dt_classifier.feature_importances_\n",
    "sorted_indices = np.argsort(importances)[::-1]\n",
    "shortind=sorted_indices[0:10]\n",
    "shortind"
   ]
  },
  {
   "cell_type": "code",
   "execution_count": 38,
   "metadata": {},
   "outputs": [
    {
     "data": {
      "text/plain": [
       "<AxesSubplot:>"
      ]
     },
     "execution_count": 38,
     "metadata": {},
     "output_type": "execute_result"
    },
    {
     "data": {
      "image/png": "[encoded data removed]",
      "text/plain": [
       "<Figure size 432x288 with 1 Axes>"
      ]
     },
     "metadata": {
      "needs_background": "light"
     },
     "output_type": "display_data"
    }
   ],
   "source": [
    "(pd.Series(dt_classifier.feature_importances_, index=X_train_sample.columns)\n",
    "   .nlargest(10)\n",
    "   .plot(kind='barh'))  "
   ]
  },
  {
   "cell_type": "markdown",
   "metadata": {},
   "source": [
    "## 4. Visualizing Decision Trees"
   ]
  },
  {
   "cell_type": "code",
   "execution_count": 3,
   "metadata": {},
   "outputs": [],
   "source": [
    "#!install_package_python3.sh add pydotplus\n",
    "#import pydotplus "
   ]
  },
  {
   "cell_type": "code",
   "execution_count": 6,
   "metadata": {},
   "outputs": [],
   "source": [
    "from sklearn.tree import export_graphviz\n",
    "from six import StringIO\n",
    "from IPython.display import Image  \n",
    "import pydotplus\n",
    "#import graphviz"
   ]
  },
  {
   "cell_type": "code",
   "execution_count": 39,
   "metadata": {},
   "outputs": [
    {
     "data": {
      "image/png": "[encoded data removed]",
      "text/plain": [
       "<IPython.core.display.Image object>"
      ]
     },
     "execution_count": 39,
     "metadata": {},
     "output_type": "execute_result"
    }
   ],
   "source": [
    "from six import StringIO\n",
    "from IPython.display import Image\n",
    "from sklearn.tree import export_graphviz\n",
    "import pydotplus\n",
    "\n",
    "\n",
    "dot_data  = StringIO()\n",
    "export_graphviz(dt_classifier, out_file=dot_data,  #DecsTreeModel\n",
    "                filled=True, rounded=True,\n",
    "                special_characters=True,feature_names = X.columns , class_names=['nonFraud','Fraud'])\n",
    "\n",
    "\n",
    "graph = pydotplus.graph_from_dot_data(dot_data.getvalue())\n",
    "Image(graph.create_png())\n",
    "\n",
    "# graph.set_size('\"300, 180!\"')\n",
    "# graph.write_png('resized_tree.png')"
   ]
  },
  {
   "cell_type": "code",
   "execution_count": 40,
   "metadata": {},
   "outputs": [
    {
     "name": "stdout",
     "output_type": "stream",
     "text": [
      "|--- V14 <= -2.12\n",
      "|   |--- V11 <= 1.84\n",
      "|   |   |--- class: 0\n",
      "|   |--- V11 >  1.84\n",
      "|   |   |--- class: 1\n",
      "|--- V14 >  -2.12\n",
      "|   |--- V14 <= -0.82\n",
      "|   |   |--- V12 <= -0.44\n",
      "|   |   |   |--- class: 1\n",
      "|   |   |--- V12 >  -0.44\n",
      "|   |   |   |--- V15 <= 0.20\n",
      "|   |   |   |   |--- class: 0\n",
      "|   |   |   |--- V15 >  0.20\n",
      "|   |   |   |   |--- class: 0\n",
      "|   |--- V14 >  -0.82\n",
      "|   |   |--- V23 <= 0.77\n",
      "|   |   |   |--- norm_amount <= -0.36\n",
      "|   |   |   |   |--- class: 0\n",
      "|   |   |   |--- norm_amount >  -0.36\n",
      "|   |   |   |   |--- class: 0\n",
      "|   |   |--- V23 >  0.77\n",
      "|   |   |   |--- class: 0\n",
      "\n"
     ]
    }
   ],
   "source": [
    "from sklearn.tree import export_text\n",
    "from sklearn.tree import DecisionTreeRegressor\n",
    "from sklearn import tree\n",
    "\n",
    "r = export_text(dt_classifier, feature_names=(list(X_train_sample.columns)))\n",
    "print(r) "
   ]
  },
  {
   "cell_type": "code",
   "execution_count": null,
   "metadata": {},
   "outputs": [],
   "source": []
  },
  {
   "cell_type": "code",
   "execution_count": null,
   "metadata": {},
   "outputs": [],
   "source": []
  },
  {
   "cell_type": "code",
   "execution_count": null,
   "metadata": {},
   "outputs": [],
   "source": []
  },
  {
   "cell_type": "code",
   "execution_count": null,
   "metadata": {},
   "outputs": [],
   "source": []
  },
  {
   "cell_type": "code",
   "execution_count": null,
   "metadata": {},
   "outputs": [],
   "source": []
  },
  {
   "cell_type": "code",
   "execution_count": null,
   "metadata": {},
   "outputs": [],
   "source": []
  },
  {
   "cell_type": "code",
   "execution_count": null,
   "metadata": {},
   "outputs": [],
   "source": []
  },
  {
   "cell_type": "code",
   "execution_count": null,
   "metadata": {},
   "outputs": [],
   "source": []
  },
  {
   "cell_type": "code",
   "execution_count": null,
   "metadata": {},
   "outputs": [],
   "source": []
  },
  {
   "cell_type": "code",
   "execution_count": null,
   "metadata": {},
   "outputs": [],
   "source": []
  },
  {
   "cell_type": "code",
   "execution_count": null,
   "metadata": {},
   "outputs": [],
   "source": []
  },
  {
   "cell_type": "code",
   "execution_count": null,
   "metadata": {},
   "outputs": [],
   "source": []
  }
 ],
 "metadata": {
  "kernelspec": {
   "display_name": "Python 3 (General DS)",
   "language": "python",
   "name": "python3"
  },
  "language_info": {
   "codemirror_mode": {
    "name": "ipython",
    "version": 3
   },
   "file_extension": ".py",
   "mimetype": "text/x-python",
   "name": "python",
   "nbconvert_exporter": "python",
   "pygments_lexer": "ipython3",
   "version": "3.6.4"
  }
 },
 "nbformat": 4,
 "nbformat_minor": 2
}
