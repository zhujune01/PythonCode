{
 "cells": [
  {
   "cell_type": "code",
   "execution_count": 1,
   "metadata": {},
   "outputs": [],
   "source": [
    "import numpy as np\n",
    "import pandas as pd\n",
    "import matplotlib\n",
    "\n",
    "import matplotlib.pyplot as plt\n",
    "%matplotlib inline"
   ]
  },
  {
   "cell_type": "code",
   "execution_count": 2,
   "metadata": {
    "scrolled": true
   },
   "outputs": [],
   "source": [
    "import sklearn\n",
    "from sklearn.preprocessing import LabelEncoder\n",
    "from sklearn.preprocessing import OneHotEncoder\n",
    "from sklearn.preprocessing import StandardScaler\n",
    "from sklearn.model_selection import train_test_split"
   ]
  },
  {
   "cell_type": "code",
   "execution_count": 3,
   "metadata": {},
   "outputs": [
    {
     "name": "stdout",
     "output_type": "stream",
     "text": [
      "0.20.3\n"
     ]
    }
   ],
   "source": [
    "print(sklearn.__version__)"
   ]
  },
  {
   "cell_type": "markdown",
   "metadata": {
    "scrolled": true
   },
   "source": [
    "## Import model data and check missing data, feature correlation etc"
   ]
  },
  {
   "cell_type": "code",
   "execution_count": 88,
   "metadata": {},
   "outputs": [],
   "source": [
    "model_data_raw = pd.read_csv('model_data.csv')"
   ]
  },
  {
   "cell_type": "code",
   "execution_count": 89,
   "metadata": {},
   "outputs": [
    {
     "data": {
      "text/html": [
       "<div>\n",
       "<style scoped>\n",
       "    .dataframe tbody tr th:only-of-type {\n",
       "        vertical-align: middle;\n",
       "    }\n",
       "\n",
       "    .dataframe tbody tr th {\n",
       "        vertical-align: top;\n",
       "    }\n",
       "\n",
       "    .dataframe thead th {\n",
       "        text-align: right;\n",
       "    }\n",
       "</style>\n",
       "<table border=\"1\" class=\"dataframe\">\n",
       "  <thead>\n",
       "    <tr style=\"text-align: right;\">\n",
       "      <th></th>\n",
       "      <th>Unnamed: 0</th>\n",
       "      <th>risk_tolerance</th>\n",
       "      <th>investment_experience</th>\n",
       "      <th>liquidity_needs</th>\n",
       "      <th>platform</th>\n",
       "      <th>time_spent</th>\n",
       "      <th>instrument_type_first_traded</th>\n",
       "      <th>first_deposit_amount</th>\n",
       "      <th>time_horizon</th>\n",
       "      <th>user_id</th>\n",
       "      <th>churn</th>\n",
       "      <th>n_days_gt10_l30d</th>\n",
       "      <th>avg_bal_gt10_l30d</th>\n",
       "    </tr>\n",
       "  </thead>\n",
       "  <tbody>\n",
       "    <tr>\n",
       "      <th>0</th>\n",
       "      <td>1</td>\n",
       "      <td>high_risk_tolerance</td>\n",
       "      <td>limited_investment_exp</td>\n",
       "      <td>very_important_liq_need</td>\n",
       "      <td>Android</td>\n",
       "      <td>33.129417</td>\n",
       "      <td>stock</td>\n",
       "      <td>40.0</td>\n",
       "      <td>med_time_horizon</td>\n",
       "      <td>895044c23edc821881e87da749c01034</td>\n",
       "      <td>0</td>\n",
       "      <td>22</td>\n",
       "      <td>80.800000</td>\n",
       "    </tr>\n",
       "    <tr>\n",
       "      <th>1</th>\n",
       "      <td>2</td>\n",
       "      <td>med_risk_tolerance</td>\n",
       "      <td>limited_investment_exp</td>\n",
       "      <td>very_important_liq_need</td>\n",
       "      <td>Android</td>\n",
       "      <td>16.573517</td>\n",
       "      <td>stock</td>\n",
       "      <td>200.0</td>\n",
       "      <td>short_time_horizon</td>\n",
       "      <td>458b1d95441ced242949deefe8e4b638</td>\n",
       "      <td>0</td>\n",
       "      <td>22</td>\n",
       "      <td>387.156364</td>\n",
       "    </tr>\n",
       "    <tr>\n",
       "      <th>2</th>\n",
       "      <td>3</td>\n",
       "      <td>med_risk_tolerance</td>\n",
       "      <td>limited_investment_exp</td>\n",
       "      <td>very_important_liq_need</td>\n",
       "      <td>iOS</td>\n",
       "      <td>10.008367</td>\n",
       "      <td>stock</td>\n",
       "      <td>25.0</td>\n",
       "      <td>long_time_horizon</td>\n",
       "      <td>c7936f653d293479e034865db9bb932f</td>\n",
       "      <td>0</td>\n",
       "      <td>22</td>\n",
       "      <td>49.240000</td>\n",
       "    </tr>\n",
       "    <tr>\n",
       "      <th>3</th>\n",
       "      <td>4</td>\n",
       "      <td>med_risk_tolerance</td>\n",
       "      <td>limited_investment_exp</td>\n",
       "      <td>very_important_liq_need</td>\n",
       "      <td>Android</td>\n",
       "      <td>1.031633</td>\n",
       "      <td>stock</td>\n",
       "      <td>100.0</td>\n",
       "      <td>short_time_horizon</td>\n",
       "      <td>b255d4bd6c9ba194d3a350b3e76c6393</td>\n",
       "      <td>0</td>\n",
       "      <td>22</td>\n",
       "      <td>191.885000</td>\n",
       "    </tr>\n",
       "    <tr>\n",
       "      <th>4</th>\n",
       "      <td>5</td>\n",
       "      <td>high_risk_tolerance</td>\n",
       "      <td>limited_investment_exp</td>\n",
       "      <td>very_important_liq_need</td>\n",
       "      <td>Android</td>\n",
       "      <td>8.187250</td>\n",
       "      <td>stock</td>\n",
       "      <td>20.0</td>\n",
       "      <td>long_time_horizon</td>\n",
       "      <td>4a168225e89375b8de605cbc0977ae91</td>\n",
       "      <td>0</td>\n",
       "      <td>22</td>\n",
       "      <td>162.414545</td>\n",
       "    </tr>\n",
       "  </tbody>\n",
       "</table>\n",
       "</div>"
      ],
      "text/plain": [
       "   Unnamed: 0       risk_tolerance   investment_experience  \\\n",
       "0           1  high_risk_tolerance  limited_investment_exp   \n",
       "1           2   med_risk_tolerance  limited_investment_exp   \n",
       "2           3   med_risk_tolerance  limited_investment_exp   \n",
       "3           4   med_risk_tolerance  limited_investment_exp   \n",
       "4           5  high_risk_tolerance  limited_investment_exp   \n",
       "\n",
       "           liquidity_needs platform  time_spent instrument_type_first_traded  \\\n",
       "0  very_important_liq_need  Android   33.129417                        stock   \n",
       "1  very_important_liq_need  Android   16.573517                        stock   \n",
       "2  very_important_liq_need      iOS   10.008367                        stock   \n",
       "3  very_important_liq_need  Android    1.031633                        stock   \n",
       "4  very_important_liq_need  Android    8.187250                        stock   \n",
       "\n",
       "   first_deposit_amount        time_horizon                           user_id  \\\n",
       "0                  40.0    med_time_horizon  895044c23edc821881e87da749c01034   \n",
       "1                 200.0  short_time_horizon  458b1d95441ced242949deefe8e4b638   \n",
       "2                  25.0   long_time_horizon  c7936f653d293479e034865db9bb932f   \n",
       "3                 100.0  short_time_horizon  b255d4bd6c9ba194d3a350b3e76c6393   \n",
       "4                  20.0   long_time_horizon  4a168225e89375b8de605cbc0977ae91   \n",
       "\n",
       "   churn  n_days_gt10_l30d  avg_bal_gt10_l30d  \n",
       "0      0                22          80.800000  \n",
       "1      0                22         387.156364  \n",
       "2      0                22          49.240000  \n",
       "3      0                22         191.885000  \n",
       "4      0                22         162.414545  "
      ]
     },
     "execution_count": 89,
     "metadata": {},
     "output_type": "execute_result"
    }
   ],
   "source": [
    "model_data_raw.head()"
   ]
  },
  {
   "cell_type": "code",
   "execution_count": 90,
   "metadata": {},
   "outputs": [],
   "source": [
    "## Drop columns not used in the model\n",
    "model_data = model_data_raw.drop(['Unnamed: 0','user_id'], axis=1)"
   ]
  },
  {
   "cell_type": "code",
   "execution_count": 91,
   "metadata": {},
   "outputs": [
    {
     "data": {
      "text/plain": [
       "(5584, 11)"
      ]
     },
     "execution_count": 91,
     "metadata": {},
     "output_type": "execute_result"
    }
   ],
   "source": [
    "model_data.shape"
   ]
  },
  {
   "cell_type": "code",
   "execution_count": 8,
   "metadata": {},
   "outputs": [
    {
     "data": {
      "text/plain": [
       "risk_tolerance                   object\n",
       "investment_experience            object\n",
       "liquidity_needs                  object\n",
       "platform                         object\n",
       "time_spent                      float64\n",
       "instrument_type_first_traded     object\n",
       "first_deposit_amount            float64\n",
       "time_horizon                     object\n",
       "churn                             int64\n",
       "n_days_gt10_l30d                  int64\n",
       "avg_bal_gt10_l30d               float64\n",
       "dtype: object"
      ]
     },
     "execution_count": 8,
     "metadata": {},
     "output_type": "execute_result"
    }
   ],
   "source": [
    "model_data.dtypes"
   ]
  },
  {
   "cell_type": "code",
   "execution_count": 9,
   "metadata": {},
   "outputs": [
    {
     "data": {
      "text/plain": [
       "risk_tolerance                  0\n",
       "investment_experience           0\n",
       "liquidity_needs                 0\n",
       "platform                        0\n",
       "time_spent                      0\n",
       "instrument_type_first_traded    0\n",
       "first_deposit_amount            0\n",
       "time_horizon                    0\n",
       "churn                           0\n",
       "n_days_gt10_l30d                0\n",
       "avg_bal_gt10_l30d               0\n",
       "dtype: int64"
      ]
     },
     "execution_count": 9,
     "metadata": {},
     "output_type": "execute_result"
    }
   ],
   "source": [
    "## Check missing data\n",
    "model_data.isnull().sum()"
   ]
  },
  {
   "cell_type": "code",
   "execution_count": 10,
   "metadata": {},
   "outputs": [
    {
     "data": {
      "text/html": [
       "<div>\n",
       "<style scoped>\n",
       "    .dataframe tbody tr th:only-of-type {\n",
       "        vertical-align: middle;\n",
       "    }\n",
       "\n",
       "    .dataframe tbody tr th {\n",
       "        vertical-align: top;\n",
       "    }\n",
       "\n",
       "    .dataframe thead th {\n",
       "        text-align: right;\n",
       "    }\n",
       "</style>\n",
       "<table border=\"1\" class=\"dataframe\">\n",
       "  <thead>\n",
       "    <tr style=\"text-align: right;\">\n",
       "      <th></th>\n",
       "      <th>time_spent</th>\n",
       "      <th>first_deposit_amount</th>\n",
       "      <th>churn</th>\n",
       "      <th>n_days_gt10_l30d</th>\n",
       "      <th>avg_bal_gt10_l30d</th>\n",
       "    </tr>\n",
       "  </thead>\n",
       "  <tbody>\n",
       "    <tr>\n",
       "      <th>count</th>\n",
       "      <td>5584.000000</td>\n",
       "      <td>5584.000000</td>\n",
       "      <td>5584.000000</td>\n",
       "      <td>5584.000000</td>\n",
       "      <td>5584.000000</td>\n",
       "    </tr>\n",
       "    <tr>\n",
       "      <th>mean</th>\n",
       "      <td>34.509706</td>\n",
       "      <td>633.566805</td>\n",
       "      <td>0.049248</td>\n",
       "      <td>21.178546</td>\n",
       "      <td>4440.142174</td>\n",
       "    </tr>\n",
       "    <tr>\n",
       "      <th>std</th>\n",
       "      <td>155.080551</td>\n",
       "      <td>2118.323263</td>\n",
       "      <td>0.216404</td>\n",
       "      <td>3.133686</td>\n",
       "      <td>15336.285697</td>\n",
       "    </tr>\n",
       "    <tr>\n",
       "      <th>min</th>\n",
       "      <td>0.000000</td>\n",
       "      <td>0.000000</td>\n",
       "      <td>0.000000</td>\n",
       "      <td>1.000000</td>\n",
       "      <td>10.000000</td>\n",
       "    </tr>\n",
       "    <tr>\n",
       "      <th>25%</th>\n",
       "      <td>2.848908</td>\n",
       "      <td>50.000000</td>\n",
       "      <td>0.000000</td>\n",
       "      <td>22.000000</td>\n",
       "      <td>100.000000</td>\n",
       "    </tr>\n",
       "    <tr>\n",
       "      <th>50%</th>\n",
       "      <td>13.474708</td>\n",
       "      <td>100.000000</td>\n",
       "      <td>0.000000</td>\n",
       "      <td>22.000000</td>\n",
       "      <td>539.744545</td>\n",
       "    </tr>\n",
       "    <tr>\n",
       "      <th>75%</th>\n",
       "      <td>33.823829</td>\n",
       "      <td>500.000000</td>\n",
       "      <td>0.000000</td>\n",
       "      <td>22.000000</td>\n",
       "      <td>2669.477489</td>\n",
       "    </tr>\n",
       "    <tr>\n",
       "      <th>max</th>\n",
       "      <td>8788.329450</td>\n",
       "      <td>50000.000000</td>\n",
       "      <td>1.000000</td>\n",
       "      <td>22.000000</td>\n",
       "      <td>389465.445436</td>\n",
       "    </tr>\n",
       "  </tbody>\n",
       "</table>\n",
       "</div>"
      ],
      "text/plain": [
       "        time_spent  first_deposit_amount        churn  n_days_gt10_l30d  \\\n",
       "count  5584.000000           5584.000000  5584.000000       5584.000000   \n",
       "mean     34.509706            633.566805     0.049248         21.178546   \n",
       "std     155.080551           2118.323263     0.216404          3.133686   \n",
       "min       0.000000              0.000000     0.000000          1.000000   \n",
       "25%       2.848908             50.000000     0.000000         22.000000   \n",
       "50%      13.474708            100.000000     0.000000         22.000000   \n",
       "75%      33.823829            500.000000     0.000000         22.000000   \n",
       "max    8788.329450          50000.000000     1.000000         22.000000   \n",
       "\n",
       "       avg_bal_gt10_l30d  \n",
       "count        5584.000000  \n",
       "mean         4440.142174  \n",
       "std         15336.285697  \n",
       "min            10.000000  \n",
       "25%           100.000000  \n",
       "50%           539.744545  \n",
       "75%          2669.477489  \n",
       "max        389465.445436  "
      ]
     },
     "execution_count": 10,
     "metadata": {},
     "output_type": "execute_result"
    }
   ],
   "source": [
    "model_data.describe()"
   ]
  },
  {
   "cell_type": "code",
   "execution_count": 11,
   "metadata": {},
   "outputs": [
    {
     "data": {
      "text/html": [
       "<div>\n",
       "<style scoped>\n",
       "    .dataframe tbody tr th:only-of-type {\n",
       "        vertical-align: middle;\n",
       "    }\n",
       "\n",
       "    .dataframe tbody tr th {\n",
       "        vertical-align: top;\n",
       "    }\n",
       "\n",
       "    .dataframe thead th {\n",
       "        text-align: right;\n",
       "    }\n",
       "</style>\n",
       "<table border=\"1\" class=\"dataframe\">\n",
       "  <thead>\n",
       "    <tr style=\"text-align: right;\">\n",
       "      <th></th>\n",
       "      <th>risk_tolerance</th>\n",
       "      <th>investment_experience</th>\n",
       "      <th>liquidity_needs</th>\n",
       "      <th>platform</th>\n",
       "      <th>instrument_type_first_traded</th>\n",
       "      <th>time_horizon</th>\n",
       "    </tr>\n",
       "  </thead>\n",
       "  <tbody>\n",
       "    <tr>\n",
       "      <th>count</th>\n",
       "      <td>5584</td>\n",
       "      <td>5584</td>\n",
       "      <td>5584</td>\n",
       "      <td>5584</td>\n",
       "      <td>5584</td>\n",
       "      <td>5584</td>\n",
       "    </tr>\n",
       "    <tr>\n",
       "      <th>unique</th>\n",
       "      <td>3</td>\n",
       "      <td>4</td>\n",
       "      <td>3</td>\n",
       "      <td>3</td>\n",
       "      <td>11</td>\n",
       "      <td>3</td>\n",
       "    </tr>\n",
       "    <tr>\n",
       "      <th>top</th>\n",
       "      <td>high_risk_tolerance</td>\n",
       "      <td>limited_investment_exp</td>\n",
       "      <td>very_important_liq_need</td>\n",
       "      <td>iOS</td>\n",
       "      <td>stock</td>\n",
       "      <td>short_time_horizon</td>\n",
       "    </tr>\n",
       "    <tr>\n",
       "      <th>freq</th>\n",
       "      <td>3566</td>\n",
       "      <td>2578</td>\n",
       "      <td>4217</td>\n",
       "      <td>3550</td>\n",
       "      <td>4827</td>\n",
       "      <td>2833</td>\n",
       "    </tr>\n",
       "  </tbody>\n",
       "</table>\n",
       "</div>"
      ],
      "text/plain": [
       "             risk_tolerance   investment_experience          liquidity_needs  \\\n",
       "count                  5584                    5584                     5584   \n",
       "unique                    3                       4                        3   \n",
       "top     high_risk_tolerance  limited_investment_exp  very_important_liq_need   \n",
       "freq                   3566                    2578                     4217   \n",
       "\n",
       "       platform instrument_type_first_traded        time_horizon  \n",
       "count      5584                         5584                5584  \n",
       "unique        3                           11                   3  \n",
       "top         iOS                        stock  short_time_horizon  \n",
       "freq       3550                         4827                2833  "
      ]
     },
     "execution_count": 11,
     "metadata": {},
     "output_type": "execute_result"
    }
   ],
   "source": [
    "model_data.describe(include=['object', 'category'])"
   ]
  },
  {
   "cell_type": "code",
   "execution_count": 12,
   "metadata": {},
   "outputs": [
    {
     "data": {
      "image/png": "[encoded data removed]",
      "text/plain": [
       "<Figure size 432x288 with 2 Axes>"
      ]
     },
     "metadata": {
      "needs_background": "light"
     },
     "output_type": "display_data"
    }
   ],
   "source": [
    "model_data.hist(by='churn', column = 'time_spent', sharex=True, sharey=True)\n",
    "plt.tight_layout()"
   ]
  },
  {
   "cell_type": "code",
   "execution_count": 13,
   "metadata": {
    "scrolled": true
   },
   "outputs": [
    {
     "data": {
      "image/png": "[encoded data removed]",
      "text/plain": [
       "<Figure size 432x288 with 2 Axes>"
      ]
     },
     "metadata": {
      "needs_background": "light"
     },
     "output_type": "display_data"
    }
   ],
   "source": [
    "model_data.hist(by='churn', column = 'first_deposit_amount', sharex=True, sharey=True)\n",
    "plt.tight_layout()"
   ]
  },
  {
   "cell_type": "code",
   "execution_count": 14,
   "metadata": {},
   "outputs": [
    {
     "data": {
      "image/png": "[encoded data removed]",
      "text/plain": [
       "<Figure size 432x288 with 2 Axes>"
      ]
     },
     "metadata": {
      "needs_background": "light"
     },
     "output_type": "display_data"
    }
   ],
   "source": [
    "model_data.hist(by='churn', column = 'avg_bal_gt10_l30d', sharex=True, sharey=True)\n",
    "plt.tight_layout()"
   ]
  },
  {
   "cell_type": "code",
   "execution_count": 15,
   "metadata": {},
   "outputs": [],
   "source": [
    "## Check correlation matrix\n",
    "corrmat = model_data.corr()\n",
    "top_corr_features = corrmat.index"
   ]
  },
  {
   "cell_type": "code",
   "execution_count": 16,
   "metadata": {},
   "outputs": [
    {
     "data": {
      "text/html": [
       "<div>\n",
       "<style scoped>\n",
       "    .dataframe tbody tr th:only-of-type {\n",
       "        vertical-align: middle;\n",
       "    }\n",
       "\n",
       "    .dataframe tbody tr th {\n",
       "        vertical-align: top;\n",
       "    }\n",
       "\n",
       "    .dataframe thead th {\n",
       "        text-align: right;\n",
       "    }\n",
       "</style>\n",
       "<table border=\"1\" class=\"dataframe\">\n",
       "  <thead>\n",
       "    <tr style=\"text-align: right;\">\n",
       "      <th></th>\n",
       "      <th>time_spent</th>\n",
       "      <th>first_deposit_amount</th>\n",
       "      <th>churn</th>\n",
       "      <th>n_days_gt10_l30d</th>\n",
       "      <th>avg_bal_gt10_l30d</th>\n",
       "    </tr>\n",
       "  </thead>\n",
       "  <tbody>\n",
       "    <tr>\n",
       "      <th>time_spent</th>\n",
       "      <td>1.000000</td>\n",
       "      <td>-0.000770</td>\n",
       "      <td>-0.004174</td>\n",
       "      <td>-0.006491</td>\n",
       "      <td>-0.004134</td>\n",
       "    </tr>\n",
       "    <tr>\n",
       "      <th>first_deposit_amount</th>\n",
       "      <td>-0.000770</td>\n",
       "      <td>1.000000</td>\n",
       "      <td>-0.029502</td>\n",
       "      <td>0.053744</td>\n",
       "      <td>0.306796</td>\n",
       "    </tr>\n",
       "    <tr>\n",
       "      <th>churn</th>\n",
       "      <td>-0.004174</td>\n",
       "      <td>-0.029502</td>\n",
       "      <td>1.000000</td>\n",
       "      <td>-0.348408</td>\n",
       "      <td>-0.048458</td>\n",
       "    </tr>\n",
       "    <tr>\n",
       "      <th>n_days_gt10_l30d</th>\n",
       "      <td>-0.006491</td>\n",
       "      <td>0.053744</td>\n",
       "      <td>-0.348408</td>\n",
       "      <td>1.000000</td>\n",
       "      <td>0.068452</td>\n",
       "    </tr>\n",
       "    <tr>\n",
       "      <th>avg_bal_gt10_l30d</th>\n",
       "      <td>-0.004134</td>\n",
       "      <td>0.306796</td>\n",
       "      <td>-0.048458</td>\n",
       "      <td>0.068452</td>\n",
       "      <td>1.000000</td>\n",
       "    </tr>\n",
       "  </tbody>\n",
       "</table>\n",
       "</div>"
      ],
      "text/plain": [
       "                      time_spent  first_deposit_amount     churn  \\\n",
       "time_spent              1.000000             -0.000770 -0.004174   \n",
       "first_deposit_amount   -0.000770              1.000000 -0.029502   \n",
       "churn                  -0.004174             -0.029502  1.000000   \n",
       "n_days_gt10_l30d       -0.006491              0.053744 -0.348408   \n",
       "avg_bal_gt10_l30d      -0.004134              0.306796 -0.048458   \n",
       "\n",
       "                      n_days_gt10_l30d  avg_bal_gt10_l30d  \n",
       "time_spent                   -0.006491          -0.004134  \n",
       "first_deposit_amount          0.053744           0.306796  \n",
       "churn                        -0.348408          -0.048458  \n",
       "n_days_gt10_l30d              1.000000           0.068452  \n",
       "avg_bal_gt10_l30d             0.068452           1.000000  "
      ]
     },
     "execution_count": 16,
     "metadata": {},
     "output_type": "execute_result"
    }
   ],
   "source": [
    "corrmat"
   ]
  },
  {
   "cell_type": "code",
   "execution_count": 17,
   "metadata": {
    "scrolled": true
   },
   "outputs": [
    {
     "data": {
      "text/html": [
       "<div>\n",
       "<style scoped>\n",
       "    .dataframe tbody tr th:only-of-type {\n",
       "        vertical-align: middle;\n",
       "    }\n",
       "\n",
       "    .dataframe tbody tr th {\n",
       "        vertical-align: top;\n",
       "    }\n",
       "\n",
       "    .dataframe thead tr th {\n",
       "        text-align: left;\n",
       "    }\n",
       "\n",
       "    .dataframe thead tr:last-of-type th {\n",
       "        text-align: right;\n",
       "    }\n",
       "</style>\n",
       "<table border=\"1\" class=\"dataframe\">\n",
       "  <thead>\n",
       "    <tr>\n",
       "      <th></th>\n",
       "      <th colspan=\"3\" halign=\"left\">churn</th>\n",
       "    </tr>\n",
       "    <tr>\n",
       "      <th></th>\n",
       "      <th>mean</th>\n",
       "      <th>count</th>\n",
       "      <th>sum</th>\n",
       "    </tr>\n",
       "    <tr>\n",
       "      <th>risk_tolerance</th>\n",
       "      <th></th>\n",
       "      <th></th>\n",
       "      <th></th>\n",
       "    </tr>\n",
       "  </thead>\n",
       "  <tbody>\n",
       "    <tr>\n",
       "      <th>high_risk_tolerance</th>\n",
       "      <td>0.038418</td>\n",
       "      <td>3566</td>\n",
       "      <td>137</td>\n",
       "    </tr>\n",
       "    <tr>\n",
       "      <th>low_risk_tolerance</th>\n",
       "      <td>0.112971</td>\n",
       "      <td>239</td>\n",
       "      <td>27</td>\n",
       "    </tr>\n",
       "    <tr>\n",
       "      <th>med_risk_tolerance</th>\n",
       "      <td>0.062395</td>\n",
       "      <td>1779</td>\n",
       "      <td>111</td>\n",
       "    </tr>\n",
       "  </tbody>\n",
       "</table>\n",
       "</div>"
      ],
      "text/plain": [
       "                        churn           \n",
       "                         mean count  sum\n",
       "risk_tolerance                          \n",
       "high_risk_tolerance  0.038418  3566  137\n",
       "low_risk_tolerance   0.112971   239   27\n",
       "med_risk_tolerance   0.062395  1779  111"
      ]
     },
     "execution_count": 17,
     "metadata": {},
     "output_type": "execute_result"
    }
   ],
   "source": [
    "model_data.groupby('risk_tolerance').agg({'churn': ['mean','count','sum']})"
   ]
  },
  {
   "cell_type": "code",
   "execution_count": 18,
   "metadata": {},
   "outputs": [
    {
     "data": {
      "text/html": [
       "<div>\n",
       "<style scoped>\n",
       "    .dataframe tbody tr th:only-of-type {\n",
       "        vertical-align: middle;\n",
       "    }\n",
       "\n",
       "    .dataframe tbody tr th {\n",
       "        vertical-align: top;\n",
       "    }\n",
       "\n",
       "    .dataframe thead tr th {\n",
       "        text-align: left;\n",
       "    }\n",
       "\n",
       "    .dataframe thead tr:last-of-type th {\n",
       "        text-align: right;\n",
       "    }\n",
       "</style>\n",
       "<table border=\"1\" class=\"dataframe\">\n",
       "  <thead>\n",
       "    <tr>\n",
       "      <th></th>\n",
       "      <th>n_days_gt10_l30d</th>\n",
       "      <th colspan=\"3\" halign=\"left\">churn</th>\n",
       "    </tr>\n",
       "    <tr>\n",
       "      <th></th>\n",
       "      <th>mean</th>\n",
       "      <th>mean</th>\n",
       "      <th>count</th>\n",
       "      <th>sum</th>\n",
       "    </tr>\n",
       "    <tr>\n",
       "      <th>instrument_type_first_traded</th>\n",
       "      <th></th>\n",
       "      <th></th>\n",
       "      <th></th>\n",
       "      <th></th>\n",
       "    </tr>\n",
       "  </thead>\n",
       "  <tbody>\n",
       "    <tr>\n",
       "      <th>0</th>\n",
       "      <td>21.923077</td>\n",
       "      <td>0.076923</td>\n",
       "      <td>13</td>\n",
       "      <td>1</td>\n",
       "    </tr>\n",
       "    <tr>\n",
       "      <th>adr</th>\n",
       "      <td>21.411168</td>\n",
       "      <td>0.035533</td>\n",
       "      <td>197</td>\n",
       "      <td>7</td>\n",
       "    </tr>\n",
       "    <tr>\n",
       "      <th>cef</th>\n",
       "      <td>21.650000</td>\n",
       "      <td>0.050000</td>\n",
       "      <td>20</td>\n",
       "      <td>1</td>\n",
       "    </tr>\n",
       "    <tr>\n",
       "      <th>etp</th>\n",
       "      <td>21.548303</td>\n",
       "      <td>0.049608</td>\n",
       "      <td>383</td>\n",
       "      <td>19</td>\n",
       "    </tr>\n",
       "    <tr>\n",
       "      <th>lp</th>\n",
       "      <td>21.625000</td>\n",
       "      <td>0.125000</td>\n",
       "      <td>8</td>\n",
       "      <td>1</td>\n",
       "    </tr>\n",
       "    <tr>\n",
       "      <th>mlp</th>\n",
       "      <td>21.018182</td>\n",
       "      <td>0.054545</td>\n",
       "      <td>55</td>\n",
       "      <td>3</td>\n",
       "    </tr>\n",
       "    <tr>\n",
       "      <th>reit</th>\n",
       "      <td>21.490909</td>\n",
       "      <td>0.018182</td>\n",
       "      <td>55</td>\n",
       "      <td>1</td>\n",
       "    </tr>\n",
       "    <tr>\n",
       "      <th>rlt</th>\n",
       "      <td>21.777778</td>\n",
       "      <td>0.000000</td>\n",
       "      <td>9</td>\n",
       "      <td>0</td>\n",
       "    </tr>\n",
       "    <tr>\n",
       "      <th>stock</th>\n",
       "      <td>21.135902</td>\n",
       "      <td>0.049720</td>\n",
       "      <td>4827</td>\n",
       "      <td>240</td>\n",
       "    </tr>\n",
       "    <tr>\n",
       "      <th>tracking</th>\n",
       "      <td>22.000000</td>\n",
       "      <td>0.000000</td>\n",
       "      <td>1</td>\n",
       "      <td>0</td>\n",
       "    </tr>\n",
       "    <tr>\n",
       "      <th>wrt</th>\n",
       "      <td>20.000000</td>\n",
       "      <td>0.125000</td>\n",
       "      <td>16</td>\n",
       "      <td>2</td>\n",
       "    </tr>\n",
       "  </tbody>\n",
       "</table>\n",
       "</div>"
      ],
      "text/plain": [
       "                             n_days_gt10_l30d     churn           \n",
       "                                         mean      mean count  sum\n",
       "instrument_type_first_traded                                      \n",
       "0                                   21.923077  0.076923    13    1\n",
       "adr                                 21.411168  0.035533   197    7\n",
       "cef                                 21.650000  0.050000    20    1\n",
       "etp                                 21.548303  0.049608   383   19\n",
       "lp                                  21.625000  0.125000     8    1\n",
       "mlp                                 21.018182  0.054545    55    3\n",
       "reit                                21.490909  0.018182    55    1\n",
       "rlt                                 21.777778  0.000000     9    0\n",
       "stock                               21.135902  0.049720  4827  240\n",
       "tracking                            22.000000  0.000000     1    0\n",
       "wrt                                 20.000000  0.125000    16    2"
      ]
     },
     "execution_count": 18,
     "metadata": {},
     "output_type": "execute_result"
    }
   ],
   "source": [
    "model_data.groupby('instrument_type_first_traded').agg({'churn': ['mean','count','sum'], \n",
    "                                                        'n_days_gt10_l30d': ['mean']})"
   ]
  },
  {
   "cell_type": "markdown",
   "metadata": {},
   "source": [
    "## Preprocessing the data"
   ]
  },
  {
   "cell_type": "code",
   "execution_count": 19,
   "metadata": {},
   "outputs": [
    {
     "name": "stdout",
     "output_type": "stream",
     "text": [
      "['risk_tolerance', 'investment_experience', 'liquidity_needs', 'platform', 'instrument_type_first_traded', 'time_horizon']\n"
     ]
    }
   ],
   "source": [
    "cat_cols = []\n",
    "for c in model_data.columns:\n",
    "     if model_data[c].dtype == \"object\" or model_data[c].dtype == \"bool\":\n",
    "            cat_cols.append(c)\n",
    "print(cat_cols)"
   ]
  },
  {
   "cell_type": "code",
   "execution_count": 27,
   "metadata": {},
   "outputs": [],
   "source": [
    "### OneHot Encoding for Categorical features\n",
    "model_data_v1 = pd.get_dummies(model_data, columns=cat_cols)"
   ]
  },
  {
   "cell_type": "code",
   "execution_count": 21,
   "metadata": {
    "scrolled": true
   },
   "outputs": [
    {
     "data": {
      "text/html": [
       "<div>\n",
       "<style scoped>\n",
       "    .dataframe tbody tr th:only-of-type {\n",
       "        vertical-align: middle;\n",
       "    }\n",
       "\n",
       "    .dataframe tbody tr th {\n",
       "        vertical-align: top;\n",
       "    }\n",
       "\n",
       "    .dataframe thead th {\n",
       "        text-align: right;\n",
       "    }\n",
       "</style>\n",
       "<table border=\"1\" class=\"dataframe\">\n",
       "  <thead>\n",
       "    <tr style=\"text-align: right;\">\n",
       "      <th></th>\n",
       "      <th>time_spent</th>\n",
       "      <th>first_deposit_amount</th>\n",
       "      <th>churn</th>\n",
       "      <th>n_days_gt10_l30d</th>\n",
       "      <th>avg_bal_gt10_l30d</th>\n",
       "      <th>risk_tolerance_high_risk_tolerance</th>\n",
       "      <th>risk_tolerance_low_risk_tolerance</th>\n",
       "      <th>risk_tolerance_med_risk_tolerance</th>\n",
       "      <th>investment_experience_extensive_investment_exp</th>\n",
       "      <th>investment_experience_good_investment_exp</th>\n",
       "      <th>...</th>\n",
       "      <th>instrument_type_first_traded_lp</th>\n",
       "      <th>instrument_type_first_traded_mlp</th>\n",
       "      <th>instrument_type_first_traded_reit</th>\n",
       "      <th>instrument_type_first_traded_rlt</th>\n",
       "      <th>instrument_type_first_traded_stock</th>\n",
       "      <th>instrument_type_first_traded_tracking</th>\n",
       "      <th>instrument_type_first_traded_wrt</th>\n",
       "      <th>time_horizon_long_time_horizon</th>\n",
       "      <th>time_horizon_med_time_horizon</th>\n",
       "      <th>time_horizon_short_time_horizon</th>\n",
       "    </tr>\n",
       "  </thead>\n",
       "  <tbody>\n",
       "    <tr>\n",
       "      <th>0</th>\n",
       "      <td>33.129417</td>\n",
       "      <td>40.0</td>\n",
       "      <td>0</td>\n",
       "      <td>22</td>\n",
       "      <td>80.800000</td>\n",
       "      <td>1</td>\n",
       "      <td>0</td>\n",
       "      <td>0</td>\n",
       "      <td>0</td>\n",
       "      <td>0</td>\n",
       "      <td>...</td>\n",
       "      <td>0</td>\n",
       "      <td>0</td>\n",
       "      <td>0</td>\n",
       "      <td>0</td>\n",
       "      <td>1</td>\n",
       "      <td>0</td>\n",
       "      <td>0</td>\n",
       "      <td>0</td>\n",
       "      <td>1</td>\n",
       "      <td>0</td>\n",
       "    </tr>\n",
       "    <tr>\n",
       "      <th>1</th>\n",
       "      <td>16.573517</td>\n",
       "      <td>200.0</td>\n",
       "      <td>0</td>\n",
       "      <td>22</td>\n",
       "      <td>387.156364</td>\n",
       "      <td>0</td>\n",
       "      <td>0</td>\n",
       "      <td>1</td>\n",
       "      <td>0</td>\n",
       "      <td>0</td>\n",
       "      <td>...</td>\n",
       "      <td>0</td>\n",
       "      <td>0</td>\n",
       "      <td>0</td>\n",
       "      <td>0</td>\n",
       "      <td>1</td>\n",
       "      <td>0</td>\n",
       "      <td>0</td>\n",
       "      <td>0</td>\n",
       "      <td>0</td>\n",
       "      <td>1</td>\n",
       "    </tr>\n",
       "    <tr>\n",
       "      <th>2</th>\n",
       "      <td>10.008367</td>\n",
       "      <td>25.0</td>\n",
       "      <td>0</td>\n",
       "      <td>22</td>\n",
       "      <td>49.240000</td>\n",
       "      <td>0</td>\n",
       "      <td>0</td>\n",
       "      <td>1</td>\n",
       "      <td>0</td>\n",
       "      <td>0</td>\n",
       "      <td>...</td>\n",
       "      <td>0</td>\n",
       "      <td>0</td>\n",
       "      <td>0</td>\n",
       "      <td>0</td>\n",
       "      <td>1</td>\n",
       "      <td>0</td>\n",
       "      <td>0</td>\n",
       "      <td>1</td>\n",
       "      <td>0</td>\n",
       "      <td>0</td>\n",
       "    </tr>\n",
       "    <tr>\n",
       "      <th>3</th>\n",
       "      <td>1.031633</td>\n",
       "      <td>100.0</td>\n",
       "      <td>0</td>\n",
       "      <td>22</td>\n",
       "      <td>191.885000</td>\n",
       "      <td>0</td>\n",
       "      <td>0</td>\n",
       "      <td>1</td>\n",
       "      <td>0</td>\n",
       "      <td>0</td>\n",
       "      <td>...</td>\n",
       "      <td>0</td>\n",
       "      <td>0</td>\n",
       "      <td>0</td>\n",
       "      <td>0</td>\n",
       "      <td>1</td>\n",
       "      <td>0</td>\n",
       "      <td>0</td>\n",
       "      <td>0</td>\n",
       "      <td>0</td>\n",
       "      <td>1</td>\n",
       "    </tr>\n",
       "    <tr>\n",
       "      <th>4</th>\n",
       "      <td>8.187250</td>\n",
       "      <td>20.0</td>\n",
       "      <td>0</td>\n",
       "      <td>22</td>\n",
       "      <td>162.414545</td>\n",
       "      <td>1</td>\n",
       "      <td>0</td>\n",
       "      <td>0</td>\n",
       "      <td>0</td>\n",
       "      <td>0</td>\n",
       "      <td>...</td>\n",
       "      <td>0</td>\n",
       "      <td>0</td>\n",
       "      <td>0</td>\n",
       "      <td>0</td>\n",
       "      <td>1</td>\n",
       "      <td>0</td>\n",
       "      <td>0</td>\n",
       "      <td>1</td>\n",
       "      <td>0</td>\n",
       "      <td>0</td>\n",
       "    </tr>\n",
       "  </tbody>\n",
       "</table>\n",
       "<p>5 rows × 32 columns</p>\n",
       "</div>"
      ],
      "text/plain": [
       "   time_spent  first_deposit_amount  churn  n_days_gt10_l30d  \\\n",
       "0   33.129417                  40.0      0                22   \n",
       "1   16.573517                 200.0      0                22   \n",
       "2   10.008367                  25.0      0                22   \n",
       "3    1.031633                 100.0      0                22   \n",
       "4    8.187250                  20.0      0                22   \n",
       "\n",
       "   avg_bal_gt10_l30d  risk_tolerance_high_risk_tolerance  \\\n",
       "0          80.800000                                   1   \n",
       "1         387.156364                                   0   \n",
       "2          49.240000                                   0   \n",
       "3         191.885000                                   0   \n",
       "4         162.414545                                   1   \n",
       "\n",
       "   risk_tolerance_low_risk_tolerance  risk_tolerance_med_risk_tolerance  \\\n",
       "0                                  0                                  0   \n",
       "1                                  0                                  1   \n",
       "2                                  0                                  1   \n",
       "3                                  0                                  1   \n",
       "4                                  0                                  0   \n",
       "\n",
       "   investment_experience_extensive_investment_exp  \\\n",
       "0                                               0   \n",
       "1                                               0   \n",
       "2                                               0   \n",
       "3                                               0   \n",
       "4                                               0   \n",
       "\n",
       "   investment_experience_good_investment_exp  ...  \\\n",
       "0                                          0  ...   \n",
       "1                                          0  ...   \n",
       "2                                          0  ...   \n",
       "3                                          0  ...   \n",
       "4                                          0  ...   \n",
       "\n",
       "   instrument_type_first_traded_lp  instrument_type_first_traded_mlp  \\\n",
       "0                                0                                 0   \n",
       "1                                0                                 0   \n",
       "2                                0                                 0   \n",
       "3                                0                                 0   \n",
       "4                                0                                 0   \n",
       "\n",
       "   instrument_type_first_traded_reit  instrument_type_first_traded_rlt  \\\n",
       "0                                  0                                 0   \n",
       "1                                  0                                 0   \n",
       "2                                  0                                 0   \n",
       "3                                  0                                 0   \n",
       "4                                  0                                 0   \n",
       "\n",
       "   instrument_type_first_traded_stock  instrument_type_first_traded_tracking  \\\n",
       "0                                   1                                      0   \n",
       "1                                   1                                      0   \n",
       "2                                   1                                      0   \n",
       "3                                   1                                      0   \n",
       "4                                   1                                      0   \n",
       "\n",
       "   instrument_type_first_traded_wrt  time_horizon_long_time_horizon  \\\n",
       "0                                 0                               0   \n",
       "1                                 0                               0   \n",
       "2                                 0                               1   \n",
       "3                                 0                               0   \n",
       "4                                 0                               1   \n",
       "\n",
       "   time_horizon_med_time_horizon  time_horizon_short_time_horizon  \n",
       "0                              1                                0  \n",
       "1                              0                                1  \n",
       "2                              0                                0  \n",
       "3                              0                                1  \n",
       "4                              0                                0  \n",
       "\n",
       "[5 rows x 32 columns]"
      ]
     },
     "execution_count": 21,
     "metadata": {},
     "output_type": "execute_result"
    }
   ],
   "source": [
    "model_data_v1.head()"
   ]
  },
  {
   "cell_type": "code",
   "execution_count": 22,
   "metadata": {},
   "outputs": [],
   "source": [
    "### Change churn lable as object\n",
    "### model_data_v1['churn'] = model_data_v1['churn'].astype('object')"
   ]
  },
  {
   "cell_type": "code",
   "execution_count": 28,
   "metadata": {},
   "outputs": [
    {
     "data": {
      "text/plain": [
       "array([0, 0, 0, ..., 0, 0, 0])"
      ]
     },
     "execution_count": 28,
     "metadata": {},
     "output_type": "execute_result"
    }
   ],
   "source": [
    "from sklearn.preprocessing import LabelEncoder\n",
    "class_le = LabelEncoder()\n",
    "churn=class_le.fit_transform(model_data_v1['churn'].values)\n",
    "churn"
   ]
  },
  {
   "cell_type": "code",
   "execution_count": null,
   "metadata": {},
   "outputs": [],
   "source": [
    "model_data_v1.dtypes"
   ]
  },
  {
   "cell_type": "markdown",
   "metadata": {},
   "source": [
    "## Develop randomForest Model"
   ]
  },
  {
   "cell_type": "code",
   "execution_count": 29,
   "metadata": {},
   "outputs": [],
   "source": [
    "## create feature data for model training\n",
    "X = np.array(model_data_v1.drop('churn', axis=1))"
   ]
  },
  {
   "cell_type": "code",
   "execution_count": 30,
   "metadata": {},
   "outputs": [],
   "source": [
    "## create churn label data for model training\n",
    "y = np.array(model_data_v1['churn'])\n",
    "##y"
   ]
  },
  {
   "cell_type": "code",
   "execution_count": 31,
   "metadata": {},
   "outputs": [
    {
     "name": "stdout",
     "output_type": "stream",
     "text": [
      "('Labels counts in y:', array([5309,  275]))\n",
      "('Labels counts in y_train:', array([3716,  192]))\n",
      "('Labels counts in y_test:', array([1593,   83]))\n"
     ]
    }
   ],
   "source": [
    "##Splitting data into 70% training and 30% test data\n",
    "from sklearn.model_selection import train_test_split\n",
    "X_train, X_test, y_train, y_test =\\\n",
    "    train_test_split(X, y, \n",
    "                     test_size=0.3, \n",
    "                     random_state=0, \n",
    "                     stratify=y)\n",
    "\n",
    "print('Labels counts in y:', np.bincount(y))\n",
    "print('Labels counts in y_train:', np.bincount(y_train))\n",
    "print('Labels counts in y_test:', np.bincount(y_test))\n"
   ]
  },
  {
   "cell_type": "code",
   "execution_count": 32,
   "metadata": {},
   "outputs": [
    {
     "name": "stdout",
     "output_type": "stream",
     "text": [
      "('labels counts in y:', 5584)\n",
      "('labels counts in y_train:', 3908)\n",
      "('Labels counts in y_test:', 1676)\n"
     ]
    }
   ],
   "source": [
    "print('labels counts in y:', len(y))\n",
    "print('labels counts in y_train:', len(y_train))\n",
    "print('Labels counts in y_test:',len(y_test))"
   ]
  },
  {
   "cell_type": "code",
   "execution_count": 33,
   "metadata": {},
   "outputs": [
    {
     "data": {
      "text/plain": [
       "RandomForestClassifier(bootstrap=True, class_weight=None, criterion='gini',\n",
       "            max_depth=None, max_features='auto', max_leaf_nodes=None,\n",
       "            min_impurity_decrease=0.0, min_impurity_split=None,\n",
       "            min_samples_leaf=1, min_samples_split=2,\n",
       "            min_weight_fraction_leaf=0.0, n_estimators=100, n_jobs=2,\n",
       "            oob_score=False, random_state=1, verbose=0, warm_start=False)"
      ]
     },
     "execution_count": 33,
     "metadata": {},
     "output_type": "execute_result"
    }
   ],
   "source": [
    "from sklearn.ensemble import RandomForestClassifier\n",
    "rf = RandomForestClassifier(criterion='gini',\n",
    "                                n_estimators=100,   \n",
    "                                random_state=1, \n",
    "                                n_jobs=2)   \n",
    "\n",
    "# Train the model on training data\n",
    "rf.fit(X_train, y_train)"
   ]
  },
  {
   "cell_type": "markdown",
   "metadata": {},
   "source": [
    "## Model evaluation metrics and plots"
   ]
  },
  {
   "cell_type": "code",
   "execution_count": 35,
   "metadata": {
    "scrolled": true
   },
   "outputs": [
    {
     "name": "stdout",
     "output_type": "stream",
     "text": [
      "               pred:no-churn  pred:churn\n",
      "true:no-churn           1586           7\n",
      "true:churn                75           8\n"
     ]
    }
   ],
   "source": [
    "from sklearn.metrics import confusion_matrix\n",
    "\n",
    "y_test_pred = rf.predict(X_test)\n",
    "confmat = pd.DataFrame(\n",
    "        confusion_matrix(y_true=y_test, y_pred=y_test_pred),\n",
    "        index=['true:no-churn','true:churn'],\n",
    "        columns=['pred:no-churn','pred:churn'])\n",
    "        \n",
    "print(confmat)\n"
   ]
  },
  {
   "cell_type": "code",
   "execution_count": 53,
   "metadata": {},
   "outputs": [
    {
     "name": "stdout",
     "output_type": "stream",
     "text": [
      "               pred:no-churn  pred:churn\n",
      "true:no-churn           3716           0\n",
      "true:churn                 0         192\n"
     ]
    }
   ],
   "source": [
    "y_train_pred = rf.predict(X_train)\n",
    "confmat = pd.DataFrame(\n",
    "        confusion_matrix(y_true=y_train, y_pred=y_train_pred),\n",
    "        index=['true:no-churn','true:churn'],\n",
    "        columns=['pred:no-churn','pred:churn'])\n",
    "        \n",
    "print(confmat)"
   ]
  },
  {
   "cell_type": "code",
   "execution_count": 56,
   "metadata": {},
   "outputs": [
    {
     "name": "stdout",
     "output_type": "stream",
     "text": [
      "               pred:no-churn  pred:churn\n",
      "true:no-churn           5302           7\n",
      "true:churn                75         200\n"
     ]
    }
   ],
   "source": [
    "y_pred = np.concatenate((y_train_pred, y_test_pred))\n",
    "y_all = np.concatenate((y_train, y_test))\n",
    "\n",
    "confmat = pd.DataFrame(\n",
    "        confusion_matrix(y_true=y_all, y_pred=y_pred),\n",
    "        index=['true:no-churn','true:churn'],\n",
    "        columns=['pred:no-churn','pred:churn'])\n",
    "        \n",
    "print(confmat)\n"
   ]
  },
  {
   "cell_type": "code",
   "execution_count": 37,
   "metadata": {},
   "outputs": [
    {
     "name": "stdout",
     "output_type": "stream",
     "text": [
      "CV accuracy scores: [0.94897959 0.94897959 0.95396419 0.95140665 0.95140665 0.95140665\n",
      " 0.94871795 0.94871795 0.95384615 0.95384615]\n",
      "CV accuracy: 0.951 +/- 0.002\n"
     ]
    }
   ],
   "source": [
    "from sklearn.model_selection import cross_val_score\n",
    "\n",
    "scores = cross_val_score(estimator=rf,\n",
    "                         X=X_train,\n",
    "                         y=y_train,\n",
    "                         cv=10,\n",
    "                         n_jobs=1)\n",
    "print('CV accuracy scores: %s' % scores)\n",
    "print('CV accuracy: %.3f +/- %.3f' % (np.mean(scores), np.std(scores)))"
   ]
  },
  {
   "cell_type": "code",
   "execution_count": 42,
   "metadata": {},
   "outputs": [],
   "source": [
    "from sklearn.metrics import precision_score, recall_score, f1_score, accuracy_score\n",
    "from sklearn.metrics import precision_recall_curve, auc, roc_auc_score\n",
    "\n",
    "def evaluate(rf, X_test, y_test):\n",
    "    y_test_pred = rf.predict(X_test)\n",
    "    y_test_prob = rf.predict_proba(X_test)[:,1]\n",
    "    print('Precision: %.3f' % precision_score(y_true=y_test, y_pred=y_test_pred))\n",
    "    print('Recall: %.3f' % recall_score(y_true=y_test, y_pred=y_test_pred))\n",
    "    print('F1-score: %.3f' % f1_score(y_true=y_test, y_pred=y_test_pred))\n",
    "    print('Accuracy: %.3f' % accuracy_score(y_test, y_test_pred))\n",
    "    \n",
    "   \n",
    "    rf_precision, rf_recall, _ = precision_recall_curve(y_test, y_test_prob)\n",
    "    rf_pr_auc = auc(rf_recall, rf_precision)\n",
    "    print('PR curve AUC score: %.3f' % rf_pr_auc)\n",
    "    print('ROC AUC score: %.3f' % roc_auc_score(y_test, y_test_prob))"
   ]
  },
  {
   "cell_type": "code",
   "execution_count": 43,
   "metadata": {},
   "outputs": [
    {
     "name": "stdout",
     "output_type": "stream",
     "text": [
      "Precision: 0.533\n",
      "Recall: 0.096\n",
      "F1-score: 0.163\n",
      "Accuracy: 0.951\n",
      "PR curve AUC score: 0.269\n",
      "ROC AUC score: 0.876\n"
     ]
    }
   ],
   "source": [
    "evaluate(rf, X_test, y_test)"
   ]
  },
  {
   "cell_type": "code",
   "execution_count": 44,
   "metadata": {},
   "outputs": [],
   "source": [
    "y_test_prob = rf.predict_proba(X_test)[:,1]"
   ]
  },
  {
   "cell_type": "markdown",
   "metadata": {},
   "source": [
    "### Plot the precision-recall curves"
   ]
  },
  {
   "cell_type": "code",
   "execution_count": 46,
   "metadata": {},
   "outputs": [],
   "source": [
    "from sklearn.metrics import precision_recall_curve\n",
    "rf_precision, rf_recall, _ = precision_recall_curve(y_test, y_test_prob)\n",
    "rf_auc = auc(rf_recall, rf_precision)"
   ]
  },
  {
   "cell_type": "code",
   "execution_count": 47,
   "metadata": {
    "scrolled": false
   },
   "outputs": [
    {
     "data": {
      "image/png": "[encoded data removed]",
      "text/plain": [
       "<Figure size 432x288 with 1 Axes>"
      ]
     },
     "metadata": {
      "needs_background": "light"
     },
     "output_type": "display_data"
    }
   ],
   "source": [
    "# plot the precision-recall curves\n",
    "plt.plot(rf_recall, rf_precision, marker='.', label='RandomForest')\n",
    "# axis labels\n",
    "plt.xlabel('Recall')\n",
    "plt.ylabel('Precision')\n",
    "plt.legend()\n",
    "plt.show()"
   ]
  },
  {
   "cell_type": "code",
   "execution_count": 51,
   "metadata": {},
   "outputs": [
    {
     "name": "stdout",
     "output_type": "stream",
     "text": [
      "PR curve AUC: 0.269\n"
     ]
    }
   ],
   "source": [
    "# calculate ROC AUC\n",
    "print('PR curve AUC: %.3f' % rf_auc)"
   ]
  },
  {
   "cell_type": "markdown",
   "metadata": {},
   "source": [
    "### Plot the roc curve for the model"
   ]
  },
  {
   "cell_type": "code",
   "execution_count": 48,
   "metadata": {},
   "outputs": [],
   "source": [
    "from sklearn.metrics import roc_curve, auc, roc_auc_score\n",
    "# calculate roc curve\n",
    "rf_fpr, rf_tpr, thresholds = roc_curve(y_test, y_test_prob)"
   ]
  },
  {
   "cell_type": "code",
   "execution_count": 49,
   "metadata": {},
   "outputs": [
    {
     "data": {
      "image/png": "[encoded data removed]",
      "text/plain": [
       "<Figure size 432x288 with 1 Axes>"
      ]
     },
     "metadata": {
      "needs_background": "light"
     },
     "output_type": "display_data"
    }
   ],
   "source": [
    "# plot the roc curve for the model\n",
    "plt.plot(rf_fpr, rf_tpr, marker='.', label='RandomForest')\n",
    "# axis labels\n",
    "plt.xlabel('False Positive Rate')\n",
    "plt.ylabel('True Positive Rate')\n",
    "plt.legend()\n",
    "plt.show()"
   ]
  },
  {
   "cell_type": "code",
   "execution_count": 50,
   "metadata": {},
   "outputs": [
    {
     "name": "stdout",
     "output_type": "stream",
     "text": [
      "AUC: 0.876\n"
     ]
    }
   ],
   "source": [
    "# calculate ROC AUC\n",
    "roc_auc = roc_auc_score(y_test, y_test_prob)\n",
    "print('AUC: %.3f' % roc_auc)\n"
   ]
  },
  {
   "cell_type": "markdown",
   "metadata": {},
   "source": [
    "## Tuning hyperparameters via grid search"
   ]
  },
  {
   "cell_type": "code",
   "execution_count": 57,
   "metadata": {},
   "outputs": [],
   "source": [
    "from sklearn.model_selection import GridSearchCV\n",
    "from sklearn.ensemble import RandomForestClassifier\n",
    "forest = RandomForestClassifier(criterion='gini', ## 'entropy',\n",
    "                               ## n_estimators=100,   \n",
    "                                random_state=1, \n",
    "                                n_jobs=2)   "
   ]
  },
  {
   "cell_type": "code",
   "execution_count": 62,
   "metadata": {},
   "outputs": [
    {
     "name": "stdout",
     "output_type": "stream",
     "text": [
      "Fitting 3 folds for each of 192 candidates, totalling 576 fits\n"
     ]
    },
    {
     "name": "stderr",
     "output_type": "stream",
     "text": [
      "[Parallel(n_jobs=-1)]: Using backend LokyBackend with 48 concurrent workers.\n",
      "[Parallel(n_jobs=-1)]: Done 104 tasks      | elapsed:   19.3s\n",
      "[Parallel(n_jobs=-1)]: Done 354 tasks      | elapsed:   25.0s\n",
      "[Parallel(n_jobs=-1)]: Done 576 out of 576 | elapsed:   30.1s finished\n"
     ]
    },
    {
     "name": "stdout",
     "output_type": "stream",
     "text": [
      "0.04166133572159673\n",
      "{'min_samples_split': 5, 'n_estimators': 100, 'max_depth': 20, 'min_samples_leaf': 1}\n"
     ]
    }
   ],
   "source": [
    "n_estimators = [100, 150, 200]  ###the number of trees in the forest of the model. \n",
    "max_depth = [10, 20, 30, 50]   ## the maximum depth of each tree.\n",
    "min_samples_split = [2, 5, 10, 20] ## the minimum number of samples required to split an internal leaf node.\n",
    "min_samples_leaf = [1, 2, 4, 8]  ## the minimum number of samples required to be at a leaf node. \n",
    "\n",
    "param_grid = dict(n_estimators = n_estimators, max_depth = max_depth,  \n",
    "              min_samples_split = min_samples_split, \n",
    "             min_samples_leaf = min_samples_leaf)\n",
    "\n",
    "gs = GridSearchCV(forest, param_grid, cv = 3,  scoring='recall', verbose = 1, n_jobs = -1) ## scoring='accuracy', \n",
    "bestF = gs.fit(X_train, y_train)\n",
    "print(bestF.best_score_)\n",
    "print(bestF.best_params_)"
   ]
  },
  {
   "cell_type": "code",
   "execution_count": 60,
   "metadata": {},
   "outputs": [
    {
     "data": {
      "text/plain": [
       "RandomForestClassifier(bootstrap=True, class_weight=None, criterion='gini',\n",
       "            max_depth=30, max_features='auto', max_leaf_nodes=None,\n",
       "            min_impurity_decrease=0.0, min_impurity_split=None,\n",
       "            min_samples_leaf=1, min_samples_split=5,\n",
       "            min_weight_fraction_leaf=0.0, n_estimators=100, n_jobs=2,\n",
       "            oob_score=False, random_state=1, verbose=0, warm_start=False)"
      ]
     },
     "execution_count": 60,
     "metadata": {},
     "output_type": "execute_result"
    }
   ],
   "source": [
    "from sklearn.ensemble import RandomForestClassifier\n",
    "rf_best = RandomForestClassifier(criterion='gini',\n",
    "                                n_estimators=100,  \n",
    "                                min_samples_split=5,\n",
    "                                max_depth=30,\n",
    "                                min_samples_leaf=1,\n",
    "                                random_state=1, \n",
    "                                n_jobs=2)  \n",
    "\n",
    "rf_best.fit(X_train, y_train)"
   ]
  },
  {
   "cell_type": "code",
   "execution_count": 63,
   "metadata": {},
   "outputs": [
    {
     "name": "stdout",
     "output_type": "stream",
     "text": [
      "Precision: 0.714\n",
      "Recall: 0.060\n",
      "F1-score: 0.111\n",
      "Accuracy: 0.952\n",
      "PR curve AUC score: 0.286\n",
      "ROC AUC score: 0.876\n"
     ]
    }
   ],
   "source": [
    "evaluate(bestF,X_test, y_test) ## optimiza recall"
   ]
  },
  {
   "cell_type": "code",
   "execution_count": 61,
   "metadata": {
    "scrolled": true
   },
   "outputs": [
    {
     "name": "stdout",
     "output_type": "stream",
     "text": [
      "Precision: 0.571\n",
      "Recall: 0.048\n",
      "F1-score: 0.089\n",
      "Accuracy: 0.951\n",
      "PR curve AUC score: 0.295\n",
      "ROC AUC score: 0.876\n"
     ]
    }
   ],
   "source": [
    "evaluate(rf_best,X_test, y_test) ## optimiza F1"
   ]
  },
  {
   "cell_type": "code",
   "execution_count": 106,
   "metadata": {},
   "outputs": [
    {
     "data": {
      "text/plain": [
       "RandomForestClassifier(bootstrap=True, class_weight='balanced',\n",
       "            criterion='gini', max_depth=None, max_features='auto',\n",
       "            max_leaf_nodes=None, min_impurity_decrease=0.0,\n",
       "            min_impurity_split=None, min_samples_leaf=1,\n",
       "            min_samples_split=2, min_weight_fraction_leaf=0.0,\n",
       "            n_estimators=100, n_jobs=2, oob_score=False, random_state=1,\n",
       "            verbose=0, warm_start=False)"
      ]
     },
     "execution_count": 106,
     "metadata": {},
     "output_type": "execute_result"
    }
   ],
   "source": [
    "from sklearn.ensemble import RandomForestClassifier\n",
    "rf_wgt = RandomForestClassifier(criterion='gini',\n",
    "                                n_estimators=100,  \n",
    "                                class_weight='balanced',\n",
    "                                random_state=1, \n",
    "                                n_jobs=2)  \n",
    "\n",
    "rf_wgt.fit(X_train, y_train)"
   ]
  },
  {
   "cell_type": "code",
   "execution_count": 108,
   "metadata": {},
   "outputs": [
    {
     "name": "stdout",
     "output_type": "stream",
     "text": [
      "Precision: 0.444\n",
      "Recall: 0.048\n",
      "F1-score: 0.087\n",
      "Accuracy: 0.950\n",
      "PR curve AUC score: 0.233\n",
      "ROC AUC score: 0.866\n"
     ]
    }
   ],
   "source": [
    "evaluate(rf_wgt,X_test, y_test)"
   ]
  },
  {
   "cell_type": "code",
   "execution_count": 111,
   "metadata": {},
   "outputs": [
    {
     "data": {
      "text/plain": [
       "RandomForestClassifier(bootstrap=True, class_weight='balanced_subsample',\n",
       "            criterion='gini', max_depth=None, max_features='auto',\n",
       "            max_leaf_nodes=None, min_impurity_decrease=0.0,\n",
       "            min_impurity_split=None, min_samples_leaf=1,\n",
       "            min_samples_split=2, min_weight_fraction_leaf=0.0,\n",
       "            n_estimators=100, n_jobs=2, oob_score=False, random_state=1,\n",
       "            verbose=0, warm_start=False)"
      ]
     },
     "execution_count": 111,
     "metadata": {},
     "output_type": "execute_result"
    }
   ],
   "source": [
    "from sklearn.ensemble import RandomForestClassifier\n",
    "rf_wgt2 = RandomForestClassifier(criterion='gini',\n",
    "                                n_estimators=100,  \n",
    "                                class_weight='balanced_subsample',\n",
    "                                random_state=1, \n",
    "                                n_jobs=2)  \n",
    "\n",
    "rf_wgt2.fit(X_train, y_train)"
   ]
  },
  {
   "cell_type": "code",
   "execution_count": 112,
   "metadata": {},
   "outputs": [
    {
     "name": "stdout",
     "output_type": "stream",
     "text": [
      "Precision: 0.300\n",
      "Recall: 0.036\n",
      "F1-score: 0.065\n",
      "Accuracy: 0.948\n",
      "PR curve AUC score: 0.236\n",
      "ROC AUC score: 0.873\n"
     ]
    }
   ],
   "source": [
    "evaluate(rf_wgt2,X_test, y_test)"
   ]
  },
  {
   "cell_type": "markdown",
   "metadata": {},
   "source": [
    "## select a model to assgin churn probability  "
   ]
  },
  {
   "cell_type": "code",
   "execution_count": 65,
   "metadata": {},
   "outputs": [],
   "source": [
    "# Select the rf model based on the best F1 score\n",
    "#y_test_prob = rf.predict_proba(X_test)[:,1]\n",
    "\n",
    "y_train_pred = rf.predict(X_train)\n",
    "y_test_pred = rf.predict(X_test)\n",
    "y_pred = np.concatenate((y_train_pred, y_test_pred))\n"
   ]
  },
  {
   "cell_type": "code",
   "execution_count": 80,
   "metadata": {},
   "outputs": [],
   "source": [
    "X_df = model_data_v1.drop('churn', axis=1)\n",
    "y_pred = rf.predict (X_df)"
   ]
  },
  {
   "cell_type": "code",
   "execution_count": 92,
   "metadata": {},
   "outputs": [],
   "source": [
    "y_pred_df = pd.DataFrame(data = y_pred, columns = ['y_pred'], index = X_df.index.copy())\n",
    "model_data_out = pd.merge(model_data_raw, y_pred_df, how = 'left', left_index = True, right_index = True)"
   ]
  },
  {
   "cell_type": "code",
   "execution_count": 93,
   "metadata": {},
   "outputs": [
    {
     "data": {
      "text/html": [
       "<div>\n",
       "<style scoped>\n",
       "    .dataframe tbody tr th:only-of-type {\n",
       "        vertical-align: middle;\n",
       "    }\n",
       "\n",
       "    .dataframe tbody tr th {\n",
       "        vertical-align: top;\n",
       "    }\n",
       "\n",
       "    .dataframe thead th {\n",
       "        text-align: right;\n",
       "    }\n",
       "</style>\n",
       "<table border=\"1\" class=\"dataframe\">\n",
       "  <thead>\n",
       "    <tr style=\"text-align: right;\">\n",
       "      <th></th>\n",
       "      <th>Unnamed: 0</th>\n",
       "      <th>risk_tolerance</th>\n",
       "      <th>investment_experience</th>\n",
       "      <th>liquidity_needs</th>\n",
       "      <th>platform</th>\n",
       "      <th>time_spent</th>\n",
       "      <th>instrument_type_first_traded</th>\n",
       "      <th>first_deposit_amount</th>\n",
       "      <th>time_horizon</th>\n",
       "      <th>user_id</th>\n",
       "      <th>churn</th>\n",
       "      <th>n_days_gt10_l30d</th>\n",
       "      <th>avg_bal_gt10_l30d</th>\n",
       "      <th>y_pred</th>\n",
       "    </tr>\n",
       "  </thead>\n",
       "  <tbody>\n",
       "    <tr>\n",
       "      <th>0</th>\n",
       "      <td>1</td>\n",
       "      <td>high_risk_tolerance</td>\n",
       "      <td>limited_investment_exp</td>\n",
       "      <td>very_important_liq_need</td>\n",
       "      <td>Android</td>\n",
       "      <td>33.129417</td>\n",
       "      <td>stock</td>\n",
       "      <td>40.0</td>\n",
       "      <td>med_time_horizon</td>\n",
       "      <td>895044c23edc821881e87da749c01034</td>\n",
       "      <td>0</td>\n",
       "      <td>22</td>\n",
       "      <td>80.800000</td>\n",
       "      <td>0</td>\n",
       "    </tr>\n",
       "    <tr>\n",
       "      <th>1</th>\n",
       "      <td>2</td>\n",
       "      <td>med_risk_tolerance</td>\n",
       "      <td>limited_investment_exp</td>\n",
       "      <td>very_important_liq_need</td>\n",
       "      <td>Android</td>\n",
       "      <td>16.573517</td>\n",
       "      <td>stock</td>\n",
       "      <td>200.0</td>\n",
       "      <td>short_time_horizon</td>\n",
       "      <td>458b1d95441ced242949deefe8e4b638</td>\n",
       "      <td>0</td>\n",
       "      <td>22</td>\n",
       "      <td>387.156364</td>\n",
       "      <td>0</td>\n",
       "    </tr>\n",
       "    <tr>\n",
       "      <th>2</th>\n",
       "      <td>3</td>\n",
       "      <td>med_risk_tolerance</td>\n",
       "      <td>limited_investment_exp</td>\n",
       "      <td>very_important_liq_need</td>\n",
       "      <td>iOS</td>\n",
       "      <td>10.008367</td>\n",
       "      <td>stock</td>\n",
       "      <td>25.0</td>\n",
       "      <td>long_time_horizon</td>\n",
       "      <td>c7936f653d293479e034865db9bb932f</td>\n",
       "      <td>0</td>\n",
       "      <td>22</td>\n",
       "      <td>49.240000</td>\n",
       "      <td>0</td>\n",
       "    </tr>\n",
       "    <tr>\n",
       "      <th>3</th>\n",
       "      <td>4</td>\n",
       "      <td>med_risk_tolerance</td>\n",
       "      <td>limited_investment_exp</td>\n",
       "      <td>very_important_liq_need</td>\n",
       "      <td>Android</td>\n",
       "      <td>1.031633</td>\n",
       "      <td>stock</td>\n",
       "      <td>100.0</td>\n",
       "      <td>short_time_horizon</td>\n",
       "      <td>b255d4bd6c9ba194d3a350b3e76c6393</td>\n",
       "      <td>0</td>\n",
       "      <td>22</td>\n",
       "      <td>191.885000</td>\n",
       "      <td>0</td>\n",
       "    </tr>\n",
       "    <tr>\n",
       "      <th>4</th>\n",
       "      <td>5</td>\n",
       "      <td>high_risk_tolerance</td>\n",
       "      <td>limited_investment_exp</td>\n",
       "      <td>very_important_liq_need</td>\n",
       "      <td>Android</td>\n",
       "      <td>8.187250</td>\n",
       "      <td>stock</td>\n",
       "      <td>20.0</td>\n",
       "      <td>long_time_horizon</td>\n",
       "      <td>4a168225e89375b8de605cbc0977ae91</td>\n",
       "      <td>0</td>\n",
       "      <td>22</td>\n",
       "      <td>162.414545</td>\n",
       "      <td>0</td>\n",
       "    </tr>\n",
       "  </tbody>\n",
       "</table>\n",
       "</div>"
      ],
      "text/plain": [
       "   Unnamed: 0       risk_tolerance   investment_experience  \\\n",
       "0           1  high_risk_tolerance  limited_investment_exp   \n",
       "1           2   med_risk_tolerance  limited_investment_exp   \n",
       "2           3   med_risk_tolerance  limited_investment_exp   \n",
       "3           4   med_risk_tolerance  limited_investment_exp   \n",
       "4           5  high_risk_tolerance  limited_investment_exp   \n",
       "\n",
       "           liquidity_needs platform  time_spent instrument_type_first_traded  \\\n",
       "0  very_important_liq_need  Android   33.129417                        stock   \n",
       "1  very_important_liq_need  Android   16.573517                        stock   \n",
       "2  very_important_liq_need      iOS   10.008367                        stock   \n",
       "3  very_important_liq_need  Android    1.031633                        stock   \n",
       "4  very_important_liq_need  Android    8.187250                        stock   \n",
       "\n",
       "   first_deposit_amount        time_horizon                           user_id  \\\n",
       "0                  40.0    med_time_horizon  895044c23edc821881e87da749c01034   \n",
       "1                 200.0  short_time_horizon  458b1d95441ced242949deefe8e4b638   \n",
       "2                  25.0   long_time_horizon  c7936f653d293479e034865db9bb932f   \n",
       "3                 100.0  short_time_horizon  b255d4bd6c9ba194d3a350b3e76c6393   \n",
       "4                  20.0   long_time_horizon  4a168225e89375b8de605cbc0977ae91   \n",
       "\n",
       "   churn  n_days_gt10_l30d  avg_bal_gt10_l30d  y_pred  \n",
       "0      0                22          80.800000       0  \n",
       "1      0                22         387.156364       0  \n",
       "2      0                22          49.240000       0  \n",
       "3      0                22         191.885000       0  \n",
       "4      0                22         162.414545       0  "
      ]
     },
     "execution_count": 93,
     "metadata": {},
     "output_type": "execute_result"
    }
   ],
   "source": [
    "model_data_out.head()"
   ]
  },
  {
   "cell_type": "code",
   "execution_count": 94,
   "metadata": {},
   "outputs": [],
   "source": [
    "y_prob = rf.predict_proba(X_df)[:,1]\n",
    "y_prob_df = pd.DataFrame(data = y_prob, columns = ['y_prob'], index = X_df.index.copy())\n",
    "model_data_out_v2 = pd.merge(model_data_out, y_prob_df, how = 'left', left_index = True, right_index = True)"
   ]
  },
  {
   "cell_type": "code",
   "execution_count": 95,
   "metadata": {
    "scrolled": true
   },
   "outputs": [
    {
     "data": {
      "text/html": [
       "<div>\n",
       "<style scoped>\n",
       "    .dataframe tbody tr th:only-of-type {\n",
       "        vertical-align: middle;\n",
       "    }\n",
       "\n",
       "    .dataframe tbody tr th {\n",
       "        vertical-align: top;\n",
       "    }\n",
       "\n",
       "    .dataframe thead th {\n",
       "        text-align: right;\n",
       "    }\n",
       "</style>\n",
       "<table border=\"1\" class=\"dataframe\">\n",
       "  <thead>\n",
       "    <tr style=\"text-align: right;\">\n",
       "      <th></th>\n",
       "      <th>Unnamed: 0</th>\n",
       "      <th>risk_tolerance</th>\n",
       "      <th>investment_experience</th>\n",
       "      <th>liquidity_needs</th>\n",
       "      <th>platform</th>\n",
       "      <th>time_spent</th>\n",
       "      <th>instrument_type_first_traded</th>\n",
       "      <th>first_deposit_amount</th>\n",
       "      <th>time_horizon</th>\n",
       "      <th>user_id</th>\n",
       "      <th>churn</th>\n",
       "      <th>n_days_gt10_l30d</th>\n",
       "      <th>avg_bal_gt10_l30d</th>\n",
       "      <th>y_pred</th>\n",
       "      <th>y_prob</th>\n",
       "    </tr>\n",
       "  </thead>\n",
       "  <tbody>\n",
       "    <tr>\n",
       "      <th>0</th>\n",
       "      <td>1</td>\n",
       "      <td>high_risk_tolerance</td>\n",
       "      <td>limited_investment_exp</td>\n",
       "      <td>very_important_liq_need</td>\n",
       "      <td>Android</td>\n",
       "      <td>33.129417</td>\n",
       "      <td>stock</td>\n",
       "      <td>40.0</td>\n",
       "      <td>med_time_horizon</td>\n",
       "      <td>895044c23edc821881e87da749c01034</td>\n",
       "      <td>0</td>\n",
       "      <td>22</td>\n",
       "      <td>80.800000</td>\n",
       "      <td>0</td>\n",
       "      <td>0.01</td>\n",
       "    </tr>\n",
       "    <tr>\n",
       "      <th>1</th>\n",
       "      <td>2</td>\n",
       "      <td>med_risk_tolerance</td>\n",
       "      <td>limited_investment_exp</td>\n",
       "      <td>very_important_liq_need</td>\n",
       "      <td>Android</td>\n",
       "      <td>16.573517</td>\n",
       "      <td>stock</td>\n",
       "      <td>200.0</td>\n",
       "      <td>short_time_horizon</td>\n",
       "      <td>458b1d95441ced242949deefe8e4b638</td>\n",
       "      <td>0</td>\n",
       "      <td>22</td>\n",
       "      <td>387.156364</td>\n",
       "      <td>0</td>\n",
       "      <td>0.00</td>\n",
       "    </tr>\n",
       "    <tr>\n",
       "      <th>2</th>\n",
       "      <td>3</td>\n",
       "      <td>med_risk_tolerance</td>\n",
       "      <td>limited_investment_exp</td>\n",
       "      <td>very_important_liq_need</td>\n",
       "      <td>iOS</td>\n",
       "      <td>10.008367</td>\n",
       "      <td>stock</td>\n",
       "      <td>25.0</td>\n",
       "      <td>long_time_horizon</td>\n",
       "      <td>c7936f653d293479e034865db9bb932f</td>\n",
       "      <td>0</td>\n",
       "      <td>22</td>\n",
       "      <td>49.240000</td>\n",
       "      <td>0</td>\n",
       "      <td>0.00</td>\n",
       "    </tr>\n",
       "    <tr>\n",
       "      <th>3</th>\n",
       "      <td>4</td>\n",
       "      <td>med_risk_tolerance</td>\n",
       "      <td>limited_investment_exp</td>\n",
       "      <td>very_important_liq_need</td>\n",
       "      <td>Android</td>\n",
       "      <td>1.031633</td>\n",
       "      <td>stock</td>\n",
       "      <td>100.0</td>\n",
       "      <td>short_time_horizon</td>\n",
       "      <td>b255d4bd6c9ba194d3a350b3e76c6393</td>\n",
       "      <td>0</td>\n",
       "      <td>22</td>\n",
       "      <td>191.885000</td>\n",
       "      <td>0</td>\n",
       "      <td>0.01</td>\n",
       "    </tr>\n",
       "    <tr>\n",
       "      <th>4</th>\n",
       "      <td>5</td>\n",
       "      <td>high_risk_tolerance</td>\n",
       "      <td>limited_investment_exp</td>\n",
       "      <td>very_important_liq_need</td>\n",
       "      <td>Android</td>\n",
       "      <td>8.187250</td>\n",
       "      <td>stock</td>\n",
       "      <td>20.0</td>\n",
       "      <td>long_time_horizon</td>\n",
       "      <td>4a168225e89375b8de605cbc0977ae91</td>\n",
       "      <td>0</td>\n",
       "      <td>22</td>\n",
       "      <td>162.414545</td>\n",
       "      <td>0</td>\n",
       "      <td>0.01</td>\n",
       "    </tr>\n",
       "  </tbody>\n",
       "</table>\n",
       "</div>"
      ],
      "text/plain": [
       "   Unnamed: 0       risk_tolerance   investment_experience  \\\n",
       "0           1  high_risk_tolerance  limited_investment_exp   \n",
       "1           2   med_risk_tolerance  limited_investment_exp   \n",
       "2           3   med_risk_tolerance  limited_investment_exp   \n",
       "3           4   med_risk_tolerance  limited_investment_exp   \n",
       "4           5  high_risk_tolerance  limited_investment_exp   \n",
       "\n",
       "           liquidity_needs platform  time_spent instrument_type_first_traded  \\\n",
       "0  very_important_liq_need  Android   33.129417                        stock   \n",
       "1  very_important_liq_need  Android   16.573517                        stock   \n",
       "2  very_important_liq_need      iOS   10.008367                        stock   \n",
       "3  very_important_liq_need  Android    1.031633                        stock   \n",
       "4  very_important_liq_need  Android    8.187250                        stock   \n",
       "\n",
       "   first_deposit_amount        time_horizon                           user_id  \\\n",
       "0                  40.0    med_time_horizon  895044c23edc821881e87da749c01034   \n",
       "1                 200.0  short_time_horizon  458b1d95441ced242949deefe8e4b638   \n",
       "2                  25.0   long_time_horizon  c7936f653d293479e034865db9bb932f   \n",
       "3                 100.0  short_time_horizon  b255d4bd6c9ba194d3a350b3e76c6393   \n",
       "4                  20.0   long_time_horizon  4a168225e89375b8de605cbc0977ae91   \n",
       "\n",
       "   churn  n_days_gt10_l30d  avg_bal_gt10_l30d  y_pred  y_prob  \n",
       "0      0                22          80.800000       0    0.01  \n",
       "1      0                22         387.156364       0    0.00  \n",
       "2      0                22          49.240000       0    0.00  \n",
       "3      0                22         191.885000       0    0.01  \n",
       "4      0                22         162.414545       0    0.01  "
      ]
     },
     "execution_count": 95,
     "metadata": {},
     "output_type": "execute_result"
    }
   ],
   "source": [
    "model_data_out_v2.head()"
   ]
  },
  {
   "cell_type": "code",
   "execution_count": 97,
   "metadata": {},
   "outputs": [],
   "source": [
    "model_data_out_v2.to_csv('model_data_out.csv')"
   ]
  },
  {
   "cell_type": "markdown",
   "metadata": {},
   "source": [
    "## Print and Plot feature importance"
   ]
  },
  {
   "cell_type": "code",
   "execution_count": 98,
   "metadata": {
    "scrolled": true
   },
   "outputs": [
    {
     "data": {
      "text/plain": [
       "array([1.65760251e-01, 1.32198381e-01, 2.34591305e-01, 2.11575202e-01,\n",
       "       1.70940426e-02, 1.04669215e-02, 1.60396548e-02, 2.58034463e-03,\n",
       "       1.34455747e-02, 2.05347992e-02, 1.90257019e-02, 8.25478802e-03,\n",
       "       1.29711782e-02, 1.49764788e-02, 1.19592124e-02, 1.32996364e-02,\n",
       "       1.46906732e-02, 2.33909850e-03, 4.01836918e-03, 7.53897612e-04,\n",
       "       9.41570607e-03, 9.37294743e-05, 3.89873601e-03, 4.90649297e-04,\n",
       "       2.82731678e-05, 1.07365948e-02, 3.62311151e-07, 1.64058355e-03,\n",
       "       1.72666429e-02, 1.25429177e-02, 1.73102945e-02])"
      ]
     },
     "execution_count": 98,
     "metadata": {},
     "output_type": "execute_result"
    }
   ],
   "source": [
    "importances = rf.feature_importances_\n",
    "importances"
   ]
  },
  {
   "cell_type": "code",
   "execution_count": 99,
   "metadata": {},
   "outputs": [
    {
     "data": {
      "text/plain": [
       "(31,)"
      ]
     },
     "execution_count": 99,
     "metadata": {},
     "output_type": "execute_result"
    }
   ],
   "source": [
    "importances.shape"
   ]
  },
  {
   "cell_type": "code",
   "execution_count": 100,
   "metadata": {},
   "outputs": [],
   "source": [
    "feat_labels = model_data_v1.drop('churn', axis=1).columns[0:]\n",
    "indices = np.argsort(importances)[::-1]  ### revert sort"
   ]
  },
  {
   "cell_type": "code",
   "execution_count": 101,
   "metadata": {},
   "outputs": [
    {
     "name": "stdout",
     "output_type": "stream",
     "text": [
      " 1) n_days_gt10_l30d                                   0.234591\n",
      " 2) avg_bal_gt10_l30d                                  0.211575\n",
      " 3) time_spent                                         0.165760\n",
      " 4) first_deposit_amount                               0.132198\n",
      " 5) investment_experience_limited_investment_exp       0.020535\n",
      " 6) investment_experience_no_investment_exp            0.019026\n",
      " 7) time_horizon_short_time_horizon                    0.017310\n",
      " 8) time_horizon_long_time_horizon                     0.017267\n",
      " 9) risk_tolerance_high_risk_tolerance                 0.017094\n",
      "10) risk_tolerance_med_risk_tolerance                  0.016040\n",
      "11) liquidity_needs_very_important_liq_need            0.014976\n",
      "12) platform_iOS                                       0.014691\n",
      "13) investment_experience_good_investment_exp          0.013446\n",
      "14) platform_both                                      0.013300\n",
      "15) liquidity_needs_somewhat_important_liq_need        0.012971\n",
      "16) time_horizon_med_time_horizon                      0.012543\n",
      "17) platform_Android                                   0.011959\n",
      "18) instrument_type_first_traded_stock                 0.010737\n",
      "19) risk_tolerance_low_risk_tolerance                  0.010467\n",
      "20) instrument_type_first_traded_etp                   0.009416\n",
      "21) liquidity_needs_not_important_liq_need             0.008255\n",
      "22) instrument_type_first_traded_adr                   0.004018\n",
      "23) instrument_type_first_traded_mlp                   0.003899\n",
      "24) investment_experience_extensive_investment_exp     0.002580\n",
      "25) instrument_type_first_traded_0                     0.002339\n",
      "26) instrument_type_first_traded_wrt                   0.001641\n",
      "27) instrument_type_first_traded_cef                   0.000754\n",
      "28) instrument_type_first_traded_reit                  0.000491\n",
      "29) instrument_type_first_traded_lp                    0.000094\n",
      "30) instrument_type_first_traded_rlt                   0.000028\n",
      "31) instrument_type_first_traded_tracking              0.000000\n"
     ]
    }
   ],
   "source": [
    "for f in range(X_train.shape[1]):\n",
    "    print(\"%2d) %-*s %f\" % (f + 1, 50, \n",
    "                            feat_labels[indices[f]], \n",
    "                            importances[indices[f]]))\n"
   ]
  },
  {
   "cell_type": "code",
   "execution_count": 102,
   "metadata": {},
   "outputs": [
    {
     "data": {
      "image/png": "[encoded data removed]",
      "text/plain": [
       "<Figure size 432x288 with 1 Axes>"
      ]
     },
     "metadata": {
      "needs_background": "light"
     },
     "output_type": "display_data"
    }
   ],
   "source": [
    "plt.title('Feature Importance')\n",
    "plt.bar(range(X_train.shape[1]), \n",
    "        importances[indices],\n",
    "        align='center')\n",
    "\n",
    "plt.xticks(range(X_train.shape[1]), \n",
    "           feat_labels[indices], rotation=90)\n",
    "plt.xlim([-1, X_train.shape[1]])\n",
    "#plt.tight_layout()\n",
    "plt.show()\n"
   ]
  }
 ],
 "metadata": {
  "kernelspec": {
   "display_name": "Python 2 (General DS)",
   "language": "python",
   "name": "python2"
  },
  "language_info": {
   "codemirror_mode": {
    "name": "ipython",
    "version": 2
   },
   "file_extension": ".py",
   "mimetype": "text/x-python",
   "name": "python",
   "nbconvert_exporter": "python",
   "pygments_lexer": "ipython2",
   "version": "2.7.10"
  }
 },
 "nbformat": 4,
 "nbformat_minor": 2
}
